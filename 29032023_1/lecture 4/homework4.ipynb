{
 "cells": [
  {
   "cell_type": "markdown",
   "metadata": {},
   "source": [
    "# Python Homework Week 4\n",
    "\n",
    "#### Learning goals\n",
    "- Practicing the skills acquired in Datacamp: Python Data Science Toolbox (Part 2)\n",
    "- Practicing the skills on numerical math as acquired in class3."
   ]
  },
  {
   "cell_type": "code",
   "execution_count": 7,
   "metadata": {},
   "outputs": [],
   "source": [
    "import scipy.optimize as opt\n",
    "import numpy as np\n",
    "import matplotlib.pyplot as plt\n",
    "%matplotlib inline"
   ]
  },
  {
   "cell_type": "markdown",
   "metadata": {},
   "source": [
    "The homework assignments are getting harder, because they are building on top of everything you have learned already. If you cannot solve a particular question, go back to your earlier notebooks and/or to Datacamp. In principle, you should be able to do everything below independenty if you remember the course material so far. The homework assignments are a good indication of the level of the exam for this material."
   ]
  },
  {
   "cell_type": "markdown",
   "metadata": {},
   "source": [
    "## Range, zip and enumerate"
   ]
  },
  {
   "cell_type": "markdown",
   "metadata": {},
   "source": [
    "**a) [1 point]**\n",
    "\n",
    "Use `range` to create a list of all positive even numbers below and including 20."
   ]
  },
  {
   "cell_type": "code",
   "execution_count": 11,
   "metadata": {},
   "outputs": [
    {
     "data": {
      "text/plain": [
       "[2, 4, 6, 8, 10, 12, 14, 16, 18, 20]"
      ]
     },
     "execution_count": 11,
     "metadata": {},
     "output_type": "execute_result"
    }
   ],
   "source": [
    "# YOUR CODE HERE\n",
    "#raise NotImplementedError()\n",
    "x = range(2,22,2)\n",
    "list(x)"
   ]
  },
  {
   "cell_type": "markdown",
   "metadata": {},
   "source": [
    "**b) [1 point]**\n",
    "\n",
    "For the tuple `foo` below, use a combination of `zip`,\n",
    "`range`, and `len` to mimic `enumerate(foo)`.\n",
    "\n",
    "Verify that your proposed solution is correct by converting each to a list\n",
    "and checking equality with `==`.\n",
    "\n",
    "HINT: You can see what the answer should look like by starting with\n",
    "`list(enumerate(foo))`."
   ]
  },
  {
   "cell_type": "code",
   "execution_count": 5,
   "metadata": {},
   "outputs": [
    {
     "name": "stdout",
     "output_type": "stream",
     "text": [
      "[(0, 'good'), (1, 'luck!')]\n"
     ]
    }
   ],
   "source": [
    "foo = (\"good\", \"luck!\")\n",
    "# YOUR CODE HERE\n",
    "#raise NotImplementedError()\n",
    "print(list(enumerate(foo)))"
   ]
  },
  {
   "cell_type": "code",
   "execution_count": 14,
   "metadata": {},
   "outputs": [
    {
     "name": "stdout",
     "output_type": "stream",
     "text": [
      "[(0, 'good'), (1, 'luck!')]\n"
     ]
    },
    {
     "data": {
      "text/plain": [
       "True"
      ]
     },
     "execution_count": 14,
     "metadata": {},
     "output_type": "execute_result"
    }
   ],
   "source": [
    "x = range(len(foo))\n",
    "\n",
    "print(list(zip(x,foo)))\n",
    "list(enumerate(foo)) == list(zip(x,foo))"
   ]
  },
  {
   "cell_type": "markdown",
   "metadata": {},
   "source": [
    "**c) [1 point]**\n",
    "\n",
    "Write a for loop that uses the lists of cities\n",
    "and states below to print \"{city} is in {state}\" for each {city} and {state}, using\n",
    "`zip` and string formatting."
   ]
  },
  {
   "cell_type": "code",
   "execution_count": 15,
   "metadata": {},
   "outputs": [
    {
     "name": "stdout",
     "output_type": "stream",
     "text": [
      "Phoenix is in Arizona\n",
      "Austin is in Texas\n",
      "San Diego is in California\n",
      "New York is in New York\n"
     ]
    }
   ],
   "source": [
    "cities = [\"Phoenix\", \"Austin\", \"San Diego\", \"New York\"]\n",
    "states = [\"Arizona\", \"Texas\", \"California\", \"New York\"]\n",
    "# YOUR CODE HERE\n",
    "#raise NotImplementedError()\n",
    "for city, state in zip(cities, states): # zip combines the first element of 2 differnet lists Phoenix . Arizona, Austin, Texas etc.\n",
    "    print(f\"{city} is in {state}\")"
   ]
  },
  {
   "cell_type": "code",
   "execution_count": 26,
   "metadata": {},
   "outputs": [
    {
     "name": "stdout",
     "output_type": "stream",
     "text": [
      "('Phoenix', 'Arizona') ('Austin', 'Texas') ('San Diego', 'California') ('New York', 'New York')\n",
      "(0, 'Phoenix') (1, 'Austin') (2, 'San Diego') (3, 'New York')\n"
     ]
    }
   ],
   "source": [
    "w1 = zip(cities, states)\n",
    "print(*w1)\n",
    "w2 = enumerate(cities)\n",
    "print(*w2)"
   ]
  },
  {
   "cell_type": "markdown",
   "metadata": {},
   "source": [
    "**d) [1 point]**\n",
    "\n",
    "Now do exactly the same using `enumerate`"
   ]
  },
  {
   "cell_type": "code",
   "execution_count": 27,
   "metadata": {},
   "outputs": [
    {
     "name": "stdout",
     "output_type": "stream",
     "text": [
      "Phoenix is in Arizona\n",
      "Austin is in Texas\n",
      "San Diego is in California\n",
      "New York is in New York\n"
     ]
    }
   ],
   "source": [
    "cities = [\"Phoenix\", \"Austin\", \"San Diego\", \"New York\"]\n",
    "states = [\"Arizona\", \"Texas\", \"California\", \"New York\"]\n",
    "# YOUR CODE HERE\n",
    "#raise NotImplementedError()\n",
    "for index, city in enumerate(cities):\n",
    "    state = states[index]\n",
    "    print(f\"{city} is in {state}\")"
   ]
  },
  {
   "cell_type": "markdown",
   "metadata": {},
   "source": [
    "## Comprehension"
   ]
  },
  {
   "cell_type": "markdown",
   "metadata": {},
   "source": [
    "**e) [1 point]**\n",
    "\n",
    "Use comprehension to create a dictionary from the lists below, with the tickers as keys and the prices as values. *Hint*: Use `zip`."
   ]
  },
  {
   "cell_type": "code",
   "execution_count": 28,
   "metadata": {
    "hide-output": false
   },
   "outputs": [
    {
     "name": "stdout",
     "output_type": "stream",
     "text": [
      "{'AAPL': 175.96, 'GOOGL': 1047.43, 'TVIX': 8.38}\n"
     ]
    }
   ],
   "source": [
    "tickers = [\"AAPL\", \"GOOGL\", \"TVIX\"]\n",
    "prices = [175.96, 1047.43, 8.38]\n",
    "\n",
    "# YOUR CODE HERE\n",
    "#raise NotImplementedError()\n",
    "d = {key: value for key, value in zip(tickers, prices)}\n",
    "print(d)"
   ]
  },
  {
   "cell_type": "markdown",
   "metadata": {},
   "source": [
    "**f) [1 point]**\n",
    "\n",
    "Use comprehension to create a list containing only the cities in the dictionary below. *Hint*: Use the method `keys()`."
   ]
  },
  {
   "cell_type": "code",
   "execution_count": 47,
   "metadata": {},
   "outputs": [
    {
     "name": "stdout",
     "output_type": "stream",
     "text": [
      "['Seattle', 'Zurich', 'Cupertino']\n"
     ]
    }
   ],
   "source": [
    "d = {\"AMZN\": \"Seattle\", \"TVIX\": \"Zurich\", \"AAPL\": \"Cupertino\"}\n",
    "\n",
    "# YOUR CODE HERE\n",
    "#raise NotImplementedError()\n",
    "hq_cities = [d[ticker] for ticker in d.keys()]\n",
    "print(hq_cities)"
   ]
  },
  {
   "cell_type": "code",
   "execution_count": 45,
   "metadata": {},
   "outputs": [
    {
     "name": "stdout",
     "output_type": "stream",
     "text": [
      "AMZN\n",
      "TVIX\n",
      "AAPL\n"
     ]
    }
   ],
   "source": [
    "for ticker in d.keys():\n",
    "    print(ticker)"
   ]
  },
  {
   "cell_type": "markdown",
   "metadata": {},
   "source": [
    "## Solving and optimizing equations\n",
    "\n",
    "**g) [4 points]**\n",
    "\n",
    "1. Generate a list between -1 and 9 (including 9) with steps of 0.1 using  the `arange` function from numpy.\n",
    "2. Define a function $f(x) = x^2 - 8x +15$ \n",
    "3. Use list comprehension to define y values using the list created in the first step and the function created in the second step.\n",
    "4. Now use `matplotlib` to plot x against 𝑦."
   ]
  },
  {
   "cell_type": "code",
   "execution_count": 52,
   "metadata": {},
   "outputs": [
    {
     "data": {
      "text/plain": [
       "[<matplotlib.lines.Line2D at 0x169da8632e0>]"
      ]
     },
     "execution_count": 52,
     "metadata": {},
     "output_type": "execute_result"
    },
    {
     "data": {
      "image/png": "[encoded data removed]",
      "text/plain": [
       "<Figure size 432x288 with 1 Axes>"
      ]
     },
     "metadata": {
      "needs_background": "light"
     },
     "output_type": "display_data"
    }
   ],
   "source": [
    "# YOUR CODE HERE\n",
    "#raise NotImplementedError()\n",
    "paper = np.arange(-1,9.1,0.1)\n",
    "def f(x):\n",
    "    return x*x -8*x + 15\n",
    "\n",
    "y = f(paper)\n",
    "\n",
    "plt.plot(x,y)"
   ]
  },
  {
   "cell_type": "markdown",
   "metadata": {
    "nbgrader": {
     "checksum": "3eeee14d5c4ae88dc99586f7af9283a4",
     "grade": false,
     "grade_id": "cell-d7e64240ee7d5391",
     "locked": true,
     "schema_version": 1,
     "solution": false
    }
   },
   "source": [
    "**h) [1 point]** Continue to consider the function $f(x) = x^2 - 8x +15$. Find the $x$ for which the function $f(x)$ attains a minimum."
   ]
  },
  {
   "cell_type": "code",
   "execution_count": 59,
   "metadata": {
    "nbgrader": {
     "checksum": "bc2fb596f9db039448f29c1ad8f76d7a",
     "grade": true,
     "grade_id": "cell-d8981beefc03e4df",
     "locked": false,
     "points": 1,
     "schema_version": 1,
     "solution": true
    }
   },
   "outputs": [
    {
     "data": {
      "text/plain": [
       "     fun: -1\n",
       "    nfev: 8\n",
       "     nit: 4\n",
       " success: True\n",
       "       x: 4"
      ]
     },
     "execution_count": 59,
     "metadata": {},
     "output_type": "execute_result"
    }
   ],
   "source": [
    "# YOUR CODE HERE\n",
    "#raise NotImplementedError()\n",
    "opt.minimize_scalar(f,(3,4,5)) #first input is the function, second input is starting point (with upper, lower bound and middle)"
   ]
  },
  {
   "cell_type": "markdown",
   "metadata": {
    "nbgrader": {
     "checksum": "7529304cb24bd4dd8dc1132acf858ff2",
     "grade": false,
     "grade_id": "cell-9936079c12a55c6c",
     "locked": true,
     "schema_version": 1,
     "solution": false
    }
   },
   "source": [
    "**i) [1 point]** Plot both the function $f(x) = x^2 - 8x +15$ and the function $g(x) = 1.5 x$. Make sure that the horizontal axis is labeled $x$ and the vertical axis $y$. *Hint:* Use `plt.show()` below a sequence of `plt.` commands to combine multiple plots in one figure."
   ]
  },
  {
   "cell_type": "code",
   "execution_count": 62,
   "metadata": {
    "nbgrader": {
     "checksum": "79db0c50f787e14a225f3f4143bd6f1a",
     "grade": true,
     "grade_id": "cell-4b9fcf110eead15d",
     "locked": false,
     "points": 1,
     "schema_version": 1,
     "solution": true
    }
   },
   "outputs": [
    {
     "data": {
      "text/plain": [
       "Text(0, 0.5, '$y$')"
      ]
     },
     "execution_count": 62,
     "metadata": {},
     "output_type": "execute_result"
    },
    {
     "data": {
      "image/png": "[encoded data removed]",
      "text/plain": [
       "<Figure size 432x288 with 1 Axes>"
      ]
     },
     "metadata": {
      "needs_background": "light"
     },
     "output_type": "display_data"
    }
   ],
   "source": [
    "# YOUR CODE HERE\n",
    "#raise NotImplementedError()\n",
    "def g(x):\n",
    "    return 1.5*x\n",
    "\n",
    "y2 = g(paper)\n",
    "\n",
    "plt.plot(paper, y)\n",
    "plt.plot(paper, y2)\n",
    "plt.xlabel('$x$')\n",
    "plt.ylabel('$y$')"
   ]
  },
  {
   "cell_type": "markdown",
   "metadata": {
    "nbgrader": {
     "checksum": "f1a51c6b53209443ff7894c81e663d17",
     "grade": false,
     "grade_id": "cell-1a88c3871e1f6b9e",
     "locked": true,
     "schema_version": 1,
     "solution": false
    }
   },
   "source": [
    "**j) [1 point]:** Find the points of intersection between the function $x^2 - 8x +15$ above and the function $1.5 x$."
   ]
  },
  {
   "cell_type": "code",
   "execution_count": 63,
   "metadata": {
    "nbgrader": {
     "checksum": "b7a58cdc98fdaba0e3f596fb8bb9e89d",
     "grade": true,
     "grade_id": "cell-f96bbae5c5cc29f1",
     "locked": false,
     "points": 1,
     "schema_version": 1,
     "solution": true
    }
   },
   "outputs": [
    {
     "name": "stdout",
     "output_type": "stream",
     "text": [
      "[2.  7.5]\n",
      "[ 3.   11.25]\n"
     ]
    }
   ],
   "source": [
    "# YOUR CODE HERE\n",
    "#raise NotImplementedError()\n",
    "def new(x):\n",
    "    return x*x -8*x + 15 - 1.5*x\n",
    "\n",
    "result= opt.root(new, [2,7]) # 1st input is the function, 2nd input is the starting and ending point\n",
    "print(result.x)\n",
    "print(f(result.x))"
   ]
  },
  {
   "cell_type": "markdown",
   "metadata": {},
   "source": [
    "## Class4\n",
    "\n",
    "To be optimally prepared for class4, it would be wise to refresh the Datacamp course Intermediate Python, in particular the chapters on Logic and Control Flow, and the chapter on Loops."
   ]
  },
  {
   "cell_type": "code",
   "execution_count": 65,
   "metadata": {},
   "outputs": [
    {
     "name": "stdout",
     "output_type": "stream",
     "text": [
      "No\n"
     ]
    }
   ],
   "source": [
    "print(\"No\")"
   ]
  }
 ],
 "metadata": {
  "kernelspec": {
   "display_name": "Python 3 (ipykernel)",
   "language": "python",
   "name": "python3"
  },
  "language_info": {
   "codemirror_mode": {
    "name": "ipython",
    "version": 3
   },
   "file_extension": ".py",
   "mimetype": "text/x-python",
   "name": "python",
   "nbconvert_exporter": "python",
   "pygments_lexer": "ipython3",
   "version": "3.9.7"
  }
 },
 "nbformat": 4,
 "nbformat_minor": 4
}
