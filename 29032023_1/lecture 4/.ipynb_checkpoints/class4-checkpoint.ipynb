{
 "cells": [
  {
   "cell_type": "markdown",
   "metadata": {},
   "source": [
    "# Week 4 in class\n",
    "\n",
    "\n",
    "#### Learning goals\n",
    "- Applying and extending your skills in control flow: `for` and `while` loops, and `break` and `continue`.\n",
    "- Applying your (simulation) skills to economic problems, in particular to investment and risk management.\n",
    "- Introducing you to vectorization and concerns about speed."
   ]
  },
  {
   "cell_type": "code",
   "execution_count": null,
   "metadata": {},
   "outputs": [],
   "source": [
    "import numpy as np"
   ]
  },
  {
   "cell_type": "markdown",
   "metadata": {},
   "source": [
    "This is the last week we study mathematical economics and finance, before we move on to data analysis in the next two weeks. You will notice that this class is hard, and that you need many of the techniques you learned so far, plus some creativity and insight. This is what programming is about! However, you may find it comfortable to know that the exam will be slightly easier than this class notebook."
   ]
  },
  {
   "cell_type": "markdown",
   "metadata": {},
   "source": [
    "### Break and Continue"
   ]
  },
  {
   "cell_type": "markdown",
   "metadata": {},
   "source": [
    "#### `break` out of a loop\n",
    "\n",
    "Sometimes we want to stop a loop early if some condition is met.\n",
    "\n",
    "Let’s look at the example of finding the smallest `N` such that\n",
    "$ \\sum_{i=0}^N i > 1000 $.\n",
    "\n",
    "Clearly `N` must be less than 1000, so we know we will find the answer\n",
    "if we start with a `for` loop over all items in `range(1001)`.\n",
    "\n",
    "Then, we can keep a running total as we proceed and tell Python to stop\n",
    "iterating through our range once total goes above 1000."
   ]
  },
  {
   "cell_type": "code",
   "execution_count": 4,
   "metadata": {},
   "outputs": [
    {
     "name": "stdout",
     "output_type": "stream",
     "text": [
      "The answer is 45\n"
     ]
    }
   ],
   "source": [
    "total = 0\n",
    "for i in range(1001):\n",
    "    total = total + i\n",
    "    if total > 1000:\n",
    "        break\n",
    "\n",
    "print(\"The answer is\", i)"
   ]
  },
  {
   "cell_type": "markdown",
   "metadata": {},
   "source": [
    "**Exercise 1**\n",
    "\n",
    "Consider the code below that draws 10000 random numbers between 0 and 1. Try to find the index of the first value in `x`\n",
    "that is greater than 0.999 using a for loop and `break`. \n",
    "*Hint*: try iterating over `range(len(x))`."
   ]
  },
  {
   "cell_type": "code",
   "execution_count": 91,
   "metadata": {},
   "outputs": [
    {
     "name": "stdout",
     "output_type": "stream",
     "text": [
      "1220\n",
      "0.999851916590159\n"
     ]
    }
   ],
   "source": [
    "x = np.random.rand(10_000)\n",
    "# YOUR CODE HERE\n",
    "#raise NotImplementedError()\n",
    "\n",
    "for i in range(len(x)):\n",
    "    y = x[i]\n",
    "    if y > 0.999:\n",
    "        break\n",
    "    \n",
    "    \n",
    "        \n",
    "    \n",
    "print(i)\n",
    "print(x[i])"
   ]
  },
  {
   "cell_type": "markdown",
   "metadata": {},
   "source": [
    "#### `continue` to the next iteration\n",
    "\n",
    "Sometimes we might want to stop the *body of a loop* early if a condition is met.\n",
    "\n",
    "To do this we can use the `continue` keyword.\n",
    "\n",
    "The basic syntax for doing this is:"
   ]
  },
  {
   "cell_type": "markdown",
   "metadata": {
    "hide-output": false
   },
   "source": [
    "```python\n",
    "for item in iterable:\n",
    "    # always do these operations\n",
    "    if condition:\n",
    "        continue\n",
    "\n",
    "    # only do these operations if condition is False\n",
    "```"
   ]
  },
  {
   "cell_type": "markdown",
   "metadata": {},
   "source": [
    "Inside the loop body, Python will stop that loop iteration of the loop and continue directly to the next iteration when it encounters the `continue` statement.\n",
    "\n",
    "For example, suppose I ask you to loop over the numbers 1 to 10 and print out\n",
    "the message “{i} An odd number!” whenever the number `i` is odd, and do\n",
    "nothing otherwise.\n",
    "\n",
    "You can use continue to do this as follows:"
   ]
  },
  {
   "cell_type": "code",
   "execution_count": 36,
   "metadata": {},
   "outputs": [
    {
     "name": "stdout",
     "output_type": "stream",
     "text": [
      "1 is an odd number!\n",
      "3 is an odd number!\n",
      "5 is an odd number!\n",
      "7 is an odd number!\n",
      "9 is an odd number!\n"
     ]
    }
   ],
   "source": [
    "for i in range(1, 11):\n",
    "    if i % 2 == 0: # an even number... This is modulus division\n",
    "        continue   # does the if statement until it is false and then continues\n",
    "    print(i, \"is an odd number!\")"
   ]
  },
  {
   "cell_type": "markdown",
   "metadata": {},
   "source": [
    "**Exercise 2**\n",
    "\n",
    "\n",
    "Again consider the code below. Write a for loop that adds up all values in `x` that are greater than\n",
    "or equal to 0.5.\n",
    "\n",
    "Use the `continue` word to end the body of the loop early for all values\n",
    "of `x` that are less than 0.5.\n",
    "\n",
    "*Hint*: Try starting your loop with `for value in x:` instead of\n",
    "iterating over the indices of `x`."
   ]
  },
  {
   "cell_type": "code",
   "execution_count": 97,
   "metadata": {},
   "outputs": [
    {
     "name": "stdout",
     "output_type": "stream",
     "text": [
      "3778.884788871776\n"
     ]
    }
   ],
   "source": [
    "x = np.random.rand(10_000)\n",
    "# YOUR CODE HERE\n",
    "#raise NotImplementedError()\n",
    "total = 0\n",
    "for value in x:\n",
    "    if value < 0.5:\n",
    "        continue\n",
    "    total = total + value\n",
    "\n",
    "\n",
    "\n",
    "print(total)"
   ]
  },
  {
   "cell_type": "markdown",
   "metadata": {},
   "source": [
    "### `for` and `while` and Investment"
   ]
  },
  {
   "cell_type": "markdown",
   "metadata": {},
   "source": [
    "**Exercise 3**\n",
    "\n",
    "In economics, when an individual has some knowledge, skills, or education\n",
    "which provides them with a source of future income, we call it [human\n",
    "capital](https://en.wikipedia.org/wiki/Human_capital).\n",
    "\n",
    "When a student graduating from high school is considering whether to\n",
    "continue with post-secondary education, they may consider that it gives\n",
    "them higher paying jobs in the future, but requires that they don't begin\n",
    "working until after graduation.\n",
    "\n",
    "Consider the simplified example where a student has perfectly forecastable\n",
    "employment and is given two choices:\n",
    "1. Begin working immediately and make 40,000 a year until they retire 40\n",
    "years later.\n",
    "2. Pay 5,000 a year for the next 4 years to attend university, then\n",
    "get a job paying 50,000 a year until they retire 40 years after making\n",
    "the college attendance decision.\n",
    "\n",
    "Should the student enroll in school if the discount rate is r = 0.05? Assume that costs and benefits occur at the end of a year."
   ]
  },
  {
   "cell_type": "code",
   "execution_count": null,
   "metadata": {},
   "outputs": [],
   "source": [
    "# Discount rate\n",
    "r = 0.05\n",
    "\n",
    "\n",
    "# High school wage\n",
    "w_hs = 40_000\n",
    "\n",
    "# College wage and cost of college\n",
    "c_college = 5_000\n",
    "w_college = 50_000\n",
    "\n",
    "\n",
    "def netpresentvalue(income, period, rate=r):\n",
    "    npv = 0\n",
    "    for i in range(period):\n",
    "        npv = npv + income/((1+rate)**(i+1))\n",
    "    return npv\n",
    "# Compute npv of being a hs worker\n",
    "hs = netpresentvalue(w_hs, 40)\n",
    "print(hs)\n",
    "    \n",
    "\n",
    "# Compute npv of attending college\n",
    "c = netpresentvalue(w_college, 36)/((1+r)**4)\n",
    "print(c)\n",
    "# Compute npv of being a college worker\n",
    "cost = netpresentvalue(c_college, 4)\n",
    "print(cost)\n",
    "# Is npv_collegeworker - npv_collegecost > npv_hsworker\n",
    "#raise NotImplementedError()\n",
    "c - cost > hs"
   ]
  },
  {
   "cell_type": "markdown",
   "metadata": {},
   "source": [
    "**Exercise 4**\n",
    "\n",
    "Companies often invest in training their employees to raise their\n",
    "productivity. Economists sometimes wonder why companies\n",
    "spend this money when this incentivizes other companies to poach\n",
    "their employees away with higher salaries since employees gain human capital from training.\n",
    "\n",
    "Let's say that it costs a company 25,000 dollars to teach their\n",
    "employees Python, but it raises their output by 2,500 per month. How\n",
    "many months would an employee need to stay for the company to find it\n",
    "profitable to pay for their employees to learn Python if their discount\n",
    "rate is r = 0.01?\n",
    "\n",
    "Assume that the cost is immediate, but that the extra output occurs at the end of a month."
   ]
  },
  {
   "cell_type": "code",
   "execution_count": null,
   "metadata": {},
   "outputs": [],
   "source": [
    "# Define cost of teaching python\n",
    "cost = 25_000\n",
    "r = 0.01\n",
    "\n",
    "# Per month value\n",
    "added_value = 2500\n",
    "\n",
    "n_months = 0\n",
    "total_npv = 0.0\n",
    "total_npv + (added_value)/(1+r)**(n_months)\n",
    "# Put condition below here\n",
    "for n_months i range(99)\n",
    "    while (cost > total_npv): # (replace False with your condition here)\n",
    "        n_months = n_months + 1 # Increment how many months they've worked\n",
    "    else:\n",
    "        print(n_months)\n",
    "\n",
    "    # Increase total_npv\n",
    "\n",
    "#raise NotImplementedError()\n",
    "\n",
    "\n"
   ]
  },
  {
   "cell_type": "code",
   "execution_count": 24,
   "metadata": {},
   "outputs": [],
   "source": []
  },
  {
   "cell_type": "markdown",
   "metadata": {},
   "source": [
    "## Loan performance, and vectorization"
   ]
  },
  {
   "cell_type": "markdown",
   "metadata": {},
   "source": [
    "### Loan performance\n",
    "\n",
    "Consider a bank offering loans to small businesses. The bank’s loan requires a repayment of $25,000 and must be repaid 1 year after the loan was made. The bank discounts the future at 5%. \n",
    "\n",
    "However, the loans made are repaid in full with only 75\\% probability, while with a probability of 20% only $12,500 is repaid, and with 5% probability no repayment is made at all.\n",
    "\n",
    "In this simple case, you can compute the net present value of a loan by hand. The amount repaid, on average, is: $ 0.75(25000) + 0.2(12500) + 0.05(0) = 21250 $.\n",
    "\n",
    "Since we’ll receive that amount in one year, we have to discount it:\n",
    "$ \\frac{1}{1+0.05} 21,250 \\approx 20238 $.\n",
    "\n",
    "However, we can also verify this amount by simulating the performance of many loans."
   ]
  },
  {
   "cell_type": "markdown",
   "metadata": {},
   "source": [
    "### Why Do We Need Randomness?\n",
    "\n",
    "As economists and data scientists, we study complex systems. These systems have inherent randomness, but they do not always readily reveal their underlying distribution to us.\n",
    "\n",
    "In cases where we face this difficulty, we turn to a set of tools known as Monte Carlo\n",
    "methods. These methods effectively boil down to repeatedly simulating some event (or events) and looking at\n",
    "the outcome distribution. This tool is used to inform decisions in search and rescue missions, election predictions, sports,\n",
    "and even by central banks.\n",
    "\n",
    "The reasons that Monte Carlo methods work is the *Law of Large Numbers* that we saw in the second week.\n",
    "\n",
    "Let's have a look at the code below. It defines a function that simulates the amount repaid on N loans. By taking the average over a large number of simulations, we can (roughly) check our analytical result."
   ]
  },
  {
   "cell_type": "code",
   "execution_count": null,
   "metadata": {},
   "outputs": [],
   "source": [
    "def simulate_loan_repayments(N, r=0.05, repayment_full=25_000.0, repayment_part=12_500.0):\n",
    "    \"\"\"\n",
    "    Simulate present value of N loans given values for discount rate and\n",
    "    repayment values\n",
    "    \"\"\"\n",
    "    repayment_sims = np.zeros(N)\n",
    "    for i in range(N):\n",
    "        x = np.random.rand()  # Draw a random number\n",
    "\n",
    "        # Full repayment 75% of time\n",
    "        if x < 0.75:\n",
    "            repaid = repayment_full\n",
    "        elif x < 0.95:\n",
    "            repaid = repayment_part\n",
    "        else:\n",
    "            repaid = 0.0\n",
    "\n",
    "        repayment_sims[i] = (1 / (1 + r)) * repaid\n",
    "\n",
    "    return repayment_sims\n",
    "\n",
    "print(np.mean(simulate_loan_repayments(250_000)))"
   ]
  },
  {
   "cell_type": "markdown",
   "metadata": {},
   "source": [
    "### Vectorization\n",
    "\n",
    "You can see that the code results in an approximation of the expectation. However, this simulation is much slower than necessary. The cell below shows how much time it takes Python to compute 250,000 simulations."
   ]
  },
  {
   "cell_type": "code",
   "execution_count": null,
   "metadata": {},
   "outputs": [],
   "source": [
    "%timeit simulate_loan_repayments(250_000)"
   ]
  },
  {
   "cell_type": "markdown",
   "metadata": {},
   "source": [
    "This function is simple enough that its speed is acceptable, but it is important to learn how to speed up your code for more complicated operations.\n",
    "\n",
    "One important technique to speed up your code is *vectorization*, which is when computations operate on an entire array at a time. In general, numpy code that is vectorized will perform better than numpy code that operates on one element at a time. The idea is to use numpy arrays to perform computations instead of only storing the values.\n",
    "\n",
    "----------\n",
    "\n",
    "**Exercise 5**\n",
    "\n",
    "Complete the code below using vectorization to speed up your simulations. Time your new function. How much faster is your vectorized code?\n",
    "\n",
    "*Hint:* Get rid of the `for` loop, and the `if`, `elif` and `else` statements, and create an array of Booleans instead."
   ]
  },
  {
   "cell_type": "code",
   "execution_count": null,
   "metadata": {},
   "outputs": [],
   "source": [
    "def simulate_loan_repayments_fast(N, r=0.05, repayment_full=25_000.0, repayment_part=12_500.0):\n",
    "    \"\"\"\n",
    "    Simulate present value of N loans given values for discount rate and\n",
    "    repayment values using vectorization\n",
    "    \"\"\"\n",
    "    random_numbers = np.random.rand(N)\n",
    "\n",
    "raise NotImplementedError()"
   ]
  },
  {
   "cell_type": "markdown",
   "metadata": {},
   "source": [
    "YOUR ANSWER HERE"
   ]
  }
 ],
 "metadata": {
  "kernelspec": {
   "display_name": "Python 3 (ipykernel)",
   "language": "python",
   "name": "python3"
  },
  "language_info": {
   "codemirror_mode": {
    "name": "ipython",
    "version": 3
   },
   "file_extension": ".py",
   "mimetype": "text/x-python",
   "name": "python",
   "nbconvert_exporter": "python",
   "pygments_lexer": "ipython3",
   "version": "3.9.7"
  }
 },
 "nbformat": 4,
 "nbformat_minor": 4
}
