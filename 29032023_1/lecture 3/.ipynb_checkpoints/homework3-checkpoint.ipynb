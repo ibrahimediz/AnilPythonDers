{
 "cells": [
  {
   "cell_type": "markdown",
   "metadata": {
    "nbgrader": {
     "checksum": "e23c836eb38e5c02edcae436fa673de7",
     "grade": false,
     "grade_id": "cell-31131899ff445ad1",
     "locked": true,
     "schema_version": 1,
     "solution": false
    }
   },
   "source": [
    "# Python Homework Week 3\n",
    "\n",
    "#### Learning goal\n",
    "- Application of your skills on functions (Datacamp: Python Data Science Toolbox, Part 1) to economic problems."
   ]
  },
  {
   "cell_type": "markdown",
   "metadata": {},
   "source": [
    "## Production Functions\n",
    "\n",
    "Production functions are useful when modeling the economics of firms producing\n",
    "goods or the aggregate output in an economy.\n",
    "\n",
    "Though the term “function” is used in a mathematical sense here, we will be making\n",
    "tight connections between the programming of mathematical functions and Python\n",
    "functions."
   ]
  },
  {
   "cell_type": "markdown",
   "metadata": {
    "deletable": false,
    "editable": false,
    "nbgrader": {
     "checksum": "9762908d9f162b3d8fed8e8500d63c56",
     "grade": false,
     "grade_id": "cell-9dd1ce7860f8f7ec",
     "locked": true,
     "schema_version": 1,
     "solution": false
    }
   },
   "source": [
    "First, we need to import some libraries:"
   ]
  },
  {
   "cell_type": "code",
   "execution_count": 1,
   "metadata": {
    "nbgrader": {
     "checksum": "921bdc086c45f89b1d1b5c2156b56eeb",
     "grade": false,
     "grade_id": "cell-66cd613887ea9b6a",
     "locked": true,
     "schema_version": 1,
     "solution": false
    }
   },
   "outputs": [],
   "source": [
    "import numpy as np\n",
    "import matplotlib.pyplot as plt\n",
    "%matplotlib inline"
   ]
  },
  {
   "cell_type": "markdown",
   "metadata": {},
   "source": [
    "### Cobb-Douglas production function\n",
    "\n",
    "The [factors of production](https://en.wikipedia.org/wiki/Factors_of_production)\n",
    "are the inputs used in the production of some sort of output.\n",
    "\n",
    "Some example factors of production include\n",
    "\n",
    "- [Physical capital](https://en.wikipedia.org/wiki/Physical_capital), e.g.\n",
    "  machines, buildings, computers, and power stations.  \n",
    "- Labor, e.g. all of the hours of work from different types of employees of a\n",
    "  firm.  \n",
    "- [Human Capital](https://en.wikipedia.org/wiki/Human_capital), e.g. the\n",
    "  knowledge of employees within a firm.  \n",
    "\n",
    "\n",
    "A [production function](https://en.wikipedia.org/wiki/Production_function)\n",
    "maps a set of inputs to the output, e.g. the amount of wheat produced by a\n",
    "farm, or widgets produced in a factory.\n",
    "\n",
    "As an example of the notation, we denote the total units of labor and\n",
    "physical capital used in a factory as $ L $ and $ K $ respectively. If we denote the physical output of the factory as $ Y $, then a production function $ F $ that transforms labor and capital into output might have the form:\n",
    "\n",
    "$$\n",
    "Y = F(K, L)\n",
    "$$\n",
    "\n",
    "\n",
    "<a id='cobb-douglas-example'></a>\n",
    "\n",
    "Throughout this notebook, we will use the\n",
    "[Cobb-Douglas](https://en.wikipedia.org/wiki/Cobb%E2%80%93Douglas_production_function)\n",
    "production function. The Cobb-Douglas production function has appealing statistical properties when brought to data. This function is displayed below.\n",
    "\n",
    "$$\n",
    "Y = z K^{\\alpha} L^{1-\\alpha}\n",
    "$$\n",
    "\n",
    "The function is parameterized by:\n",
    "- A parameter $ \\alpha \\in [0,1] $, called the “output elasticity of\n",
    "  capital”.  \n",
    "- A value $ z $ called the [Total Factor Productivity](https://en.wikipedia.org/wiki/Total_factor_productivity) (TFP).  "
   ]
  },
  {
   "cell_type": "markdown",
   "metadata": {},
   "source": [
    "Now, we’ll use our new knowledge from Datacamp to define a function that takes inputs $ K $ and $ L $ and computes the output from a Cobb-Douglas production function with parameters $ z = 1 $ and $ \\alpha = 0.33 $."
   ]
  },
  {
   "cell_type": "code",
   "execution_count": 5,
   "metadata": {
    "hide-output": false
   },
   "outputs": [],
   "source": [
    "def cobb_douglas(K, L):\n",
    "    '''Cobb-Douglas production function with inputs K and L, for parameters TFP, z=1, and output elasticity of capital, alpha=0.33.'''\n",
    "\n",
    "    # Create alpha and z\n",
    "    z = 1\n",
    "    alpha = 0.33\n",
    "\n",
    "    return z * K**alpha * L**(1 - alpha)"
   ]
  },
  {
   "cell_type": "markdown",
   "metadata": {},
   "source": [
    "**a) [1 point]** Now, if you run `z` below, you will get an error message. Explain why."
   ]
  },
  {
   "cell_type": "code",
   "execution_count": 3,
   "metadata": {},
   "outputs": [
    {
     "ename": "NameError",
     "evalue": "name 'z' is not defined",
     "output_type": "error",
     "traceback": [
      "\u001b[1;31m---------------------------------------------------------------------------\u001b[0m",
      "\u001b[1;31mNameError\u001b[0m                                 Traceback (most recent call last)",
      "\u001b[1;32m~\\AppData\\Local\\Temp/ipykernel_63468/1705769632.py\u001b[0m in \u001b[0;36m<module>\u001b[1;34m\u001b[0m\n\u001b[1;32m----> 1\u001b[1;33m \u001b[0mz\u001b[0m\u001b[1;33m\u001b[0m\u001b[1;33m\u001b[0m\u001b[0m\n\u001b[0m",
      "\u001b[1;31mNameError\u001b[0m: name 'z' is not defined"
     ]
    }
   ],
   "source": [
    "z"
   ]
  },
  {
   "cell_type": "markdown",
   "metadata": {},
   "source": [
    "Z is only defined under the function."
   ]
  },
  {
   "cell_type": "markdown",
   "metadata": {},
   "source": [
    "**b) [1 point]** When you run `cobb_douglas?`, you cannot read any useful documentation about this function. Complete the docstring for this function with the following documentation: 'Cobb-Douglas production function with inputs K and L, \n",
    "       for parameters TFP, z=1, and output elasticity of capital, alpha=0.33."
   ]
  },
  {
   "cell_type": "code",
   "execution_count": 6,
   "metadata": {},
   "outputs": [],
   "source": [
    "# YOUR CODE HERE\n",
    "#raise NotImplementedError()\n",
    "cobb_douglas? <- #''' here u write the docstring'''"
   ]
  },
  {
   "cell_type": "markdown",
   "metadata": {},
   "source": [
    "**c) [1 point]** Create a lambda function `CD_prod_func` inspired by the function definition above. Test your function."
   ]
  },
  {
   "cell_type": "code",
   "execution_count": 115,
   "metadata": {},
   "outputs": [],
   "source": [
    "# YOUR CODE HERE\n",
    "#raise NotImplementedError()\n",
    "def CD_prod_func(K,L):\n",
    "    z = 1\n",
    "    alpha = 0.33"
   ]
  },
  {
   "cell_type": "markdown",
   "metadata": {},
   "source": [
    "**d) [1 point]** The (original) function defined above is not very general. Include `z` and `alpha` as arguments of the function with default values equal to 1 for z and 0.33 for alpha."
   ]
  },
  {
   "cell_type": "code",
   "execution_count": 115,
   "metadata": {},
   "outputs": [],
   "source": [
    "# YOUR CODE HERE\n",
    "raise NotImplementedError()"
   ]
  },
  {
   "cell_type": "markdown",
   "metadata": {},
   "source": [
    "### Marginal Products\n",
    "\n",
    "Another valuable element to analyze on production functions is how\n",
    "output changes as we change only one of the inputs. We will call this the\n",
    "marginal product. For example, compare the output using $ K, L $ units of inputs to that with\n",
    "an $ \\epsilon $ units of labor. Then the marginal product of labor (MPL) is defined as\n",
    "\n",
    "\\begin{equation}\n",
    "\\frac{F(K, L + \\varepsilon) - F(K, L)}{\\varepsilon} \\tag{1}\n",
    "\\label{eq:eps}\\end{equation}\n",
    "\n",
    "This tells us how much additional output is created relative to the additional\n",
    "input. (Spoiler alert: This should look like the definition for a partial\n",
    "derivative!) \n",
    "\n",
    "If the input can be divided into small units, then we can use calculus to take\n",
    "this limit, using the partial derivative of the production function relative to\n",
    "that input. In this case, we define the marginal product of labor (MPL) and marginal product\n",
    "of capital (MPK) as\n",
    "\n",
    "$$\n",
    "\\begin{aligned}\n",
    "MPL(K, L) &= \\frac{\\partial F(K, L)}{\\partial L} \\\\\n",
    "MPK(K, L) &= \\frac{\\partial F(K, L)}{\\partial K} \n",
    "\\end{aligned}\n",
    "$$\n",
    "\n",
    "In the [Cobb-Douglas](#cobb-douglas-example) example above, this becomes\n",
    "\n",
    "\\begin{align}\n",
    "MPL(K, L) &= (1-\\alpha) z \\left(\\frac{K}{L} \\right)^{\\alpha} \\tag{2} \\\\\n",
    "MPK(K, L) &= z  \\alpha \\left(\\frac{K}{L} \\right)^{\\alpha - 1} \\tag{3} \\\\\n",
    "\\end{align}\n"
   ]
  },
  {
   "cell_type": "markdown",
   "metadata": {},
   "source": [
    "**e) [1 point]** Define a function `marginal_products` with two return values, the MPL and the MPK, using the partial derivatives in (2) and (3). Include default parameters `z=1` and `alpha=0.33`. Test your function."
   ]
  },
  {
   "cell_type": "code",
   "execution_count": null,
   "metadata": {},
   "outputs": [],
   "source": [
    "# YOUR CODE HERE\n",
    "raise NotImplementedError()"
   ]
  },
  {
   "cell_type": "markdown",
   "metadata": {},
   "source": [
    "**f) [1 point]** Now define a function `approx_marginal_products` with two return values, the MPL and the MPK, using the definition with $\\varepsilon$ in (1). Use the function `cobb_douglas` inside your function and include default parameters `z=1` and `alpha=0.33`, and a new parameter `epsilon`."
   ]
  },
  {
   "cell_type": "code",
   "execution_count": null,
   "metadata": {},
   "outputs": [],
   "source": [
    "# YOUR CODE HERE\n",
    "raise NotImplementedError()"
   ]
  },
  {
   "cell_type": "markdown",
   "metadata": {},
   "source": [
    "Now let’s test that these functions return the same values! We know from calculus that we can only expect the values to be close if epsilon is small. Usually it is quite cumbersome to compute such an approximation, but now Python can do it for us.\n",
    "\n",
    "**g) [1 point]** For what values of `epsilon` do you get similar results? Find an `epsilon` for which the results are the same up to at least 4 decimals. Using the function `round`, use Python to check equality for the MPL and the MPK separately, for $K=1$ and $L=0.5$ and the default arguments."
   ]
  },
  {
   "cell_type": "code",
   "execution_count": null,
   "metadata": {},
   "outputs": [],
   "source": [
    "# YOUR CODE HERE\n",
    "raise NotImplementedError()"
   ]
  },
  {
   "cell_type": "markdown",
   "metadata": {},
   "source": [
    "In competitive markets, the factors of production are paid their marginal product. Therefore the wage $w$ is given by the marginal product of labor, an the rental rate of capital is given by the marginal product of capital.\n",
    "\n",
    "**h) [1 point]** First, define a function `labor_share` that computes the labor share in competitive markets, i.e. the share of total wages in total output, $wL/Y$. Second, create a list of parameter values for the output elasticity of capital $\\alpha$, ranging from 0.1 to 0.9 with steps of 0.1. Finally, evaluate your function for your list of $\\alpha$'s and some $K$, $L$, and $z$. What do you notice?"
   ]
  },
  {
   "cell_type": "code",
   "execution_count": null,
   "metadata": {},
   "outputs": [],
   "source": [
    "# YOUR CODE HERE\n",
    "raise NotImplementedError()"
   ]
  }
 ],
 "metadata": {
  "kernelspec": {
   "display_name": "Python 3 (ipykernel)",
   "language": "python",
   "name": "python3"
  },
  "language_info": {
   "codemirror_mode": {
    "name": "ipython",
    "version": 3
   },
   "file_extension": ".py",
   "mimetype": "text/x-python",
   "name": "python",
   "nbconvert_exporter": "python",
   "pygments_lexer": "ipython3",
   "version": "3.9.7"
  }
 },
 "nbformat": 4,
 "nbformat_minor": 4
}
