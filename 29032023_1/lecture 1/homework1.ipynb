{
 "cells": [
  {
   "cell_type": "markdown",
   "metadata": {},
   "source": [
    "# Python Homework Week 1\n",
    "\n",
    "This is your first Python homework. Homework you are supposed to do *before* the class. \n",
    "\n",
    "Files like `class1.ipynb` you do not need to prepare, we do them together in class. By doing them together, you can easily ask questions if you get stuck or if you run into things that you do not understand.\n",
    "\n",
    "Although homework is not graded, we do present them as exams (with points etc.) so that you get used to them and do not get confused at the exam itself.\n",
    "\n",
    "#### Learning goals of this homework\n",
    "- Introducing you to the Python part of the course \n",
    "- Making you comfortable with Jupyter notebooks\n",
    "- Applying some of the skills acquired in Datacamp: Introduction to Python, in particular on strings and lists."
   ]
  },
  {
   "cell_type": "markdown",
   "metadata": {},
   "source": [
    "## Jupyter notebooks\n",
    "\n",
    "You learn the details of Python programming from Datacamp. Here we use Python in a Jupyter notebook. In a notebook, you evaluate (or \"run\") the Python code by pressing the SHIFT and ENTER (sometimes called RETURN) keys simultaneously.\n",
    "\n",
    "Just to practice pressing SHIFT+ENTER at the same time, evaluate the following cell"
   ]
  },
  {
   "cell_type": "code",
   "execution_count": null,
   "metadata": {
    "jupyter": {
     "outputs_hidden": false
    },
    "nbgrader": {
     "grade": false,
     "grade_id": "cell-47b8539db92928a1",
     "locked": true,
     "schema_version": 1,
     "solution": false
    }
   },
   "outputs": [],
   "source": [
    "5+5"
   ]
  },
  {
   "cell_type": "markdown",
   "metadata": {},
   "source": [
    "Play around with the Jupyter interface to get to know your way around. E.g. in the menu under \"Help\", you can click on \"Keyboard Shortcuts\". These may be useful to know. E.g. when you are in a \"cell\" and press ESC and then m, you change the cell from \"code\" to \"markdown\". Press RETURN (or ENTER) and you can type markdown in this cell."
   ]
  },
  {
   "cell_type": "markdown",
   "metadata": {},
   "source": [
    "For most (probably all) notebooks that we use, we need to import the following libraries by running the next cell. If we ask you to import the relevant libraries at an exam, make sure that you know how to do so.\n"
   ]
  },
  {
   "cell_type": "code",
   "execution_count": 3,
   "metadata": {
    "jupyter": {
     "outputs_hidden": false
    },
    "nbgrader": {
     "grade": false,
     "grade_id": "cell-9048108dc8892815",
     "locked": true,
     "schema_version": 1,
     "solution": false
    }
   },
   "outputs": [],
   "source": [
    "import matplotlib.pyplot as plt\n",
    "import pandas as pd\n",
    "import numpy as np\n",
    "from scipy import optimize\n",
    "%matplotlib inline"
   ]
  },
  {
   "cell_type": "markdown",
   "metadata": {},
   "source": [
    "\n",
    "## Why do we learn Python?\n",
    "\n",
    "You may have used Excel before and think that this is all you need to know to compute stuff. However, as the next tweet illustrates, Excel is not so great."
   ]
  },
  {
   "cell_type": "code",
   "execution_count": 9,
   "metadata": {
    "jupyter": {
     "outputs_hidden": false
    },
    "nbgrader": {
     "grade": false,
     "grade_id": "cell-47b8539db92928a1",
     "locked": true,
     "schema_version": 1,
     "solution": false
    }
   },
   "outputs": [
    {
     "data": {
      "text/html": [
       "\n",
       "<blockquote class=\"twitter-tweet\" data-lang=\"en\"><p lang=\"en\" dir=\"ltr\">Relying on Excel for important calculations is like driving drunk: no matter how carefully you do it, a wreck is likely. <a href=\"https://twitter.com/hashtag/reproducibility?src=hash\">#reproducibility</a></p>&mdash; Philip Stark (@philipbstark) <a href=\"https://twitter.com/philipbstark/status/498683914592862208\">August 11, 2014</a></blockquote>\n",
       "<script async src=\"//platform.twitter.com/widgets.js\" charset=\"utf-8\"></script>\n"
      ],
      "text/plain": [
       "<IPython.core.display.HTML object>"
      ]
     },
     "metadata": {},
     "output_type": "display_data"
    }
   ],
   "source": [
    "%%html\n",
    "\n",
    "<blockquote class=\"twitter-tweet\" data-lang=\"en\"><p lang=\"en\" dir=\"ltr\">Relying on Excel for important calculations is like driving drunk: no matter how carefully you do it, a wreck is likely. <a href=\"https://twitter.com/hashtag/reproducibility?src=hash\">#reproducibility</a></p>&mdash; Philip Stark (@philipbstark) <a href=\"https://twitter.com/philipbstark/status/498683914592862208\">August 11, 2014</a></blockquote>\n",
    "<script async src=\"//platform.twitter.com/widgets.js\" charset=\"utf-8\"></script>"
   ]
  },
  {
   "cell_type": "markdown",
   "metadata": {
    "nbgrader": {
     "grade": false,
     "grade_id": "cell-fb58497f5a84c124",
     "locked": true,
     "schema_version": 1,
     "solution": false
    }
   },
   "source": [
    "# Introduction to Python\n",
    "\n",
    "Code comes in languages. This has at least two implications. First, if you know just one programming language, you may not be able to communicate with everyone, and you may occasionaly need to learn a new language. Python is a general-purpose language. It can be used for data analysis, but also for mathematical economics and simulations. In this course, we will apply Python to economic topics you learn in other courses.\n",
    "\n",
    "Second, every language has its own peculiarities. The problem with programming languages is that often they are very sensitive about their peculiarities. Usually code is case-sensitive and it matters a lot whether you use, e.g. `;` or `,` and `(`, `{` or `[`. As a result, you will often make typos that result in error massages. Errors are a normal aspect of programming. Typos that do not result in errors are worse, because then your code may do something else than you want it to do!\n",
    "\n",
    "Because you will often encounter errors, you need to learn to solve them. Often you can easily find the source of the problem by carefully reading the error message. But sometimes the error message is uninformative. If this is the case, it often helps to temporarily remove parts of the code until you no longer get error messages. In this way you can locate the problematic part of the code.\n",
    "\n",
    "We also urge you to use google (or other search engines like DuckDuckGo) and stackoverflow. Some students find this weird at the beginning: should we not teach you everything that you need to know? The answer is no for a number of reasons. First, even professional programmers use google and stackoverflow all the time. Second, python and R are open source and lots of people work with it. If you encounter a problem, chances are that someone else had the same problem and knows the solution to it. There is not need to “invent the wheel”. Use the resources available to you. If you copy a lot of code, you should add a reference. Finally, because python and R are open source, they develop rapidly. The things that we teach you now, will be obsolete in a couple of years time. Hence, you need to be able to find your way around also in 10 years time. To start practicing this, use google now.\n",
    "\n",
    "When doing the assignments, you can google any problems that you encounter. If circumstances allow, the exam is done in a shielded exam environment at the university, or with proctoring at home. Then you face restrictions on browsing the internet. Hence, we will also practice getting help on Python in a Jupyter notebook."
   ]
  },
  {
   "cell_type": "markdown",
   "metadata": {},
   "source": [
    "\n",
    "\n",
    "**a) [1 point]** Of course, python can calculate more impressive numbers than `5+5`. In the following cell, evaluate $5^{100}$. Note that you need to find the python equivalent of \"to the power of\" [hint: it is not `^`].\n",
    "\n",
    "Delete the contents of the following cell and replace it with your python version of $5^{100}$.\n",
    "\n",
    "The answer should be: `7888609052210118054117285652827862296732064351090230047702789306640625`"
   ]
  },
  {
   "cell_type": "code",
   "execution_count": null,
   "metadata": {
    "scrolled": true
   },
   "outputs": [],
   "source": [
    "# YOUR CODE HERE\n",
    "raise NotImplementedError()"
   ]
  },
  {
   "cell_type": "markdown",
   "metadata": {},
   "source": [
    "# Lists\n",
    "\n",
    "**b) [1 point]** In the first cell, try `y.append(z)` .\n",
    "\n",
    "In the second cell try `y.extend(z)`.\n",
    "\n",
    "Explain the behavior.\n",
    "\n",
    "HINT: When you are trying to explain use y.append? and y.extend? to see a description of what these methods are supposed to do."
   ]
  },
  {
   "cell_type": "code",
   "execution_count": null,
   "metadata": {
    "jupyter": {
     "outputs_hidden": false
    },
    "scrolled": true
   },
   "outputs": [],
   "source": [
    "y = [\"a\", \"b\", \"c\"]\n",
    "z = [1, 2, 3]\n",
    "# YOUR CODE HERE\n",
    "raise NotImplementedError()"
   ]
  },
  {
   "cell_type": "code",
   "execution_count": null,
   "metadata": {
    "jupyter": {
     "outputs_hidden": false
    },
    "scrolled": true
   },
   "outputs": [],
   "source": [
    "y = [\"a\", \"b\", \"c\"]\n",
    "z = [1, 2, 3]\n",
    "# YOUR CODE HERE\n",
    "raise NotImplementedError()"
   ]
  },
  {
   "cell_type": "markdown",
   "metadata": {},
   "source": [
    "YOUR ANSWER HERE"
   ]
  },
  {
   "cell_type": "markdown",
   "metadata": {},
   "source": [
    "# Teaching philosophy\n",
    "\n",
    "We teach python in a way that may seem counter-intuitive to you at first sight. Our starting point is that you are not doing an engineering/IT degree; you are an economist. Hence, we are interested in economic applications; not so much in the details of the python language.\n",
    "\n",
    "Of course, you need to learn the basics of the language, things like data-types, control structures etc. In other words, you need to know what a list is, a dictionary, a numpy array, a pandas dataframe, how to define functions, use list comprehension, if-then-else structures etc. This “technical” part you mainly learn via Datacamp. There they teach you the details of the language such that you get the syntax right. By doing their exercises you learn to type Python and recognize error messages.\n",
    "\n",
    "In class we then focus on applying these tools to economic problems. In class we also type Python and we also make mistakes which generate errors. So there is an overlap with the Datacamp lectures, but the focus in class is different. Further, in economics we are interested in optimization (we tend to maximize profits, utility etc.) and solving equations (specifically, solving for fixed points which give us equilibria). For this we use numpy and scipy, which is not covered much at the Datacamp courses that we do.\n",
    "\n",
    "Most concepts you will first see at Datacamp and then we apply them in class. Sometimes it will be the other way around: we used something in class and you learn more details about it at Datacamp. This is perfectly fine. However, it is important that you keep up-to-date with Datacamp otherwise you are going to get lost. Also, programming is something that you need to practice. Play around with the notebooks that we do in class. Plot different functions, solve equations for different parameter values etc. Just looking at the answers that we give you in class will not help you to learn to use Python."
   ]
  },
  {
   "cell_type": "markdown",
   "metadata": {},
   "source": [
    "## Financial arithmetic"
   ]
  },
  {
   "cell_type": "markdown",
   "metadata": {
    "nbgrader": {
     "grade": false,
     "grade_id": "cell-09dbe4ad2af0866e",
     "locked": true,
     "schema_version": 1,
     "solution": false
    }
   },
   "source": [
    "**c) [1 point]** Suppose you are working with price data and encounter the value \"\\$6.50\".\n",
    "\n",
    "We recognize this as being a number representing the quantity \"six dollars and fifty cents.\"\n",
    "\n",
    "However, Python interprets the value as the string \"\\$6.50\".\n",
    "\n",
    "In this exercise, your task is to convert the variable price below into a number.\n",
    "\n",
    "Hint: Once the string is in a suitable format, you can call write `float(clean_price)` to make it a number."
   ]
  },
  {
   "cell_type": "code",
   "execution_count": null,
   "metadata": {
    "jupyter": {
     "outputs_hidden": false
    },
    "nbgrader": {
     "grade": false,
     "grade_id": "cell-d350dcd359c5670f",
     "locked": true,
     "schema_version": 1,
     "solution": false
    }
   },
   "outputs": [],
   "source": [
    "price = \"$6.50\"\n",
    "# YOUR CODE HERE\n",
    "raise NotImplementedError()"
   ]
  },
  {
   "cell_type": "markdown",
   "metadata": {
    "nbgrader": {
     "grade": false,
     "grade_id": "cell-164a97e9ee64c8c8",
     "locked": true,
     "schema_version": 1,
     "solution": false
    }
   },
   "source": [
    "**d) [1 point]** Create the following variables:\n",
    "\n",
    "- `D`: A floating point number with the value 10,000  \n",
    "- `r`: A floating point number with value 0.025  \n",
    "- `T`: An integer with value 30  \n",
    "\n",
    "Now compute the present discounted value of a payment ($ D $) made\n",
    "in $ T $ years assuming an interest rate of 2.5%. Save this value to\n",
    "a new variable called `PDV` and print your output.\n",
    "\n",
    "Hint: The formula is\n",
    "\n",
    "$$\n",
    "\\text{PDV} = \\frac{D}{(1 + r)^T}\n",
    "$$"
   ]
  },
  {
   "cell_type": "code",
   "execution_count": null,
   "metadata": {},
   "outputs": [],
   "source": [
    "# YOUR CODE HERE\n",
    "raise NotImplementedError()"
   ]
  }
 ],
 "metadata": {
  "celltoolbar": "Create Assignment",
  "kernelspec": {
   "display_name": "Python 3 (ipykernel)",
   "language": "python",
   "name": "python3"
  },
  "language_info": {
   "codemirror_mode": {
    "name": "ipython",
    "version": 3
   },
   "file_extension": ".py",
   "mimetype": "text/x-python",
   "name": "python",
   "nbconvert_exporter": "python",
   "pygments_lexer": "ipython3",
   "version": "3.9.7"
  },
  "toc": {
   "base_numbering": 1,
   "nav_menu": {},
   "number_sections": true,
   "sideBar": true,
   "skip_h1_title": false,
   "title_cell": "Table of Contents",
   "title_sidebar": "Contents",
   "toc_cell": false,
   "toc_position": {},
   "toc_section_display": true,
   "toc_window_display": false
  }
 },
 "nbformat": 4,
 "nbformat_minor": 4
}
