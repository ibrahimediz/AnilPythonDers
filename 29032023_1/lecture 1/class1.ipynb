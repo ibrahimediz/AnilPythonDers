{
 "cells": [
  {
   "cell_type": "markdown",
   "metadata": {
    "nbgrader": {
     "grade": false,
     "grade_id": "cell-50be09b55831e38d",
     "locked": true,
     "schema_version": 1,
     "solution": false
    },
    "slideshow": {
     "slide_type": "slide"
    }
   },
   "source": [
    "# Week 1 in class\n",
    "\n",
    "This is one of the notebooks that we work on together in class. In this way you can work on tougher problems, on your own or with a small group of other students, and have plenty of time to ask questions about things that you do not understand. \n",
    "\n",
    "If you do not manage to finish the notebook in class, then finish it yourself at home. The notebook is written in such a way that you can go through it on your own. If you do run into problems, ask us on the discussion forum, in the Q&A session, or next week.\n",
    "\n",
    "#### Learning goals\n",
    "- Extending your knowlegde of object types to *tuples*.\n",
    "- Introducing you to an important application of strings: *string formatting*.\n",
    "- Increasing your comfort with `numpy`, with an application to financial arithmetic."
   ]
  },
  {
   "cell_type": "markdown",
   "metadata": {},
   "source": [
    "## Tuples\n",
    "<a id='3'></a>\n",
    "\n",
    "Tuples are very similar to lists and hold ordered collections of items.\n",
    "\n",
    "However, tuples and lists have three main differences:\n",
    "\n",
    "1. Tuples are created using parenthesis — `(` and `)` — instead of\n",
    "  square brackets — `[` and `]`.  \n",
    "1. Tuples are *immutable*, which is a fancy computer science word\n",
    "  meaning that they can’t be changed or altered after they are created.  \n",
    "1. Tuples and multiple return values\n",
    "  from functions are tightly connected, as we will see in functions.  "
   ]
  },
  {
   "cell_type": "code",
   "execution_count": 1,
   "metadata": {
    "hide-output": false
   },
   "outputs": [
    {
     "name": "stdout",
     "output_type": "stream",
     "text": [
      "t is a <class 'tuple'>\n"
     ]
    },
    {
     "data": {
      "text/plain": [
       "(1, 'hello', 3.0)"
      ]
     },
     "execution_count": 1,
     "metadata": {},
     "output_type": "execute_result"
    }
   ],
   "source": [
    "t = (1, \"hello\", 3.0)\n",
    "print(\"t is a\", type(t))\n",
    "t"
   ]
  },
  {
   "cell_type": "markdown",
   "metadata": {},
   "source": [
    "We can *convert* a list to a tuple by calling the `tuple` function on\n",
    "a list."
   ]
  },
  {
   "cell_type": "code",
   "execution_count": 2,
   "metadata": {
    "hide-output": false
   },
   "outputs": [
    {
     "name": "stdout",
     "output_type": "stream",
     "text": [
      "x is a <class 'list'>\n",
      "tuple(x) is a <class 'tuple'>\n"
     ]
    },
    {
     "data": {
      "text/plain": [
       "(1, 2)"
      ]
     },
     "execution_count": 2,
     "metadata": {},
     "output_type": "execute_result"
    }
   ],
   "source": [
    "x = [1,2]\n",
    "print(\"x is a\", type(x))\n",
    "print(\"tuple(x) is a\", type(tuple(x)))\n",
    "tuple(x)"
   ]
  },
  {
   "cell_type": "markdown",
   "metadata": {},
   "source": [
    "We can also convert a tuple to a list using the list function."
   ]
  },
  {
   "cell_type": "code",
   "execution_count": 3,
   "metadata": {
    "hide-output": false
   },
   "outputs": [
    {
     "data": {
      "text/plain": [
       "[1, 'hello', 3.0]"
      ]
     },
     "execution_count": 3,
     "metadata": {},
     "output_type": "execute_result"
    }
   ],
   "source": [
    "list(t)"
   ]
  },
  {
   "cell_type": "markdown",
   "metadata": {},
   "source": [
    "### List vs Tuple: Which to Use?\n",
    "\n",
    "Should you use a list or tuple?\n",
    "\n",
    "This depends on what you are storing, whether you might need to reorder the elements,\n",
    "or whether you’d add\n",
    "new elements without a complete reinterpretation of the\n",
    "underlying data.\n",
    "\n",
    "For example, take data representing the GDP (in trillions) and population\n",
    "(in billions) for China in 2015."
   ]
  },
  {
   "cell_type": "code",
   "execution_count": 4,
   "metadata": {
    "hide-output": false
   },
   "outputs": [
    {
     "name": "stdout",
     "output_type": "stream",
     "text": [
      "('China', 2015, 11.06, 1.371)\n"
     ]
    }
   ],
   "source": [
    "china_data_2015 = (\"China\", 2015, 11.06, 1.371)\n",
    "\n",
    "print(china_data_2015)"
   ]
  },
  {
   "cell_type": "markdown",
   "metadata": {},
   "source": [
    "In this case, we have used a tuple since: (a) ordering would\n",
    "be meaningless; and (b) adding more data would require a\n",
    "reinterpretation of the whole data structure.\n",
    "\n",
    "On the other hand, consider a list of GDP in China between\n",
    "2014 and 2015."
   ]
  },
  {
   "cell_type": "code",
   "execution_count": 5,
   "metadata": {
    "hide-output": false
   },
   "outputs": [
    {
     "name": "stdout",
     "output_type": "stream",
     "text": [
      "[10.48, 11.06]\n"
     ]
    }
   ],
   "source": [
    "gdp_data = [10.48, 11.06]\n",
    "print(gdp_data)"
   ]
  },
  {
   "cell_type": "markdown",
   "metadata": {},
   "source": [
    "In this case, we have used a list, since adding on a new\n",
    "element to the end of the list for GDP in 2016 would make\n",
    "complete sense.\n",
    "\n",
    "Along these lines, collecting data on China for different\n",
    "years may make sense as a list of tuples (e.g. year, GDP,\n",
    "and population – although we will see better ways to store this sort of data\n",
    "when we learn Pandas"
   ]
  },
  {
   "cell_type": "code",
   "execution_count": 42,
   "metadata": {
    "hide-output": false
   },
   "outputs": [
    {
     "name": "stdout",
     "output_type": "stream",
     "text": [
      "[(2015, 11.06, 1.371), (2014, 10.48, 1.364)]\n"
     ]
    }
   ],
   "source": [
    "china_data = [(2015, 11.06, 1.371), (2014, 10.48, 1.364)]\n",
    "print(china_data)"
   ]
  },
  {
   "cell_type": "markdown",
   "metadata": {},
   "source": [
    "#### Exercise 1\n",
    "\n",
    "Verify that tuples are indeed immutable and lists are not, by attempting the following:\n",
    "\n",
    "- Changing the GDP in 2015 to 12.00\n",
    "- Appending observations for 2013: a GDP of 9.607, and a population of 1.357\n",
    "- Sorting the data ascending in years"
   ]
  },
  {
   "cell_type": "code",
   "execution_count": 43,
   "metadata": {},
   "outputs": [
    {
     "name": "stdout",
     "output_type": "stream",
     "text": [
      "[(2013, 9.607, 1.357), (2014, 10.48, 1.364), (2015, 11.06, 1.371)]\n"
     ]
    }
   ],
   "source": [
    "# YOUR CODE HERE\n",
    "#raise NotImplementedError()\n",
    "#china_data_2015[2] = '12.00'\n",
    "x = (2013, 9.607, 1.357)\n",
    "china_data.append(x)\n",
    "sorted_china = sorted(china_data)\n",
    "print(sorted_china)\n"
   ]
  },
  {
   "cell_type": "markdown",
   "metadata": {},
   "source": [
    "### Conclusion\n",
    "\n",
    "In general, a rule of thumb is to use a list unless you *need* to use a tuple.\n",
    "\n",
    "Key criteria for tuple use are when you want to:\n",
    "\n",
    "- ensure the *order* of elements can’t change  \n",
    "- ensure the actual values of the elements can’t\n",
    "  change  \n",
    "- use the collection as a key in a dictionary (we will learn what this\n",
    "  means next week)  "
   ]
  },
  {
   "cell_type": "markdown",
   "metadata": {},
   "source": [
    "## String Formatting\n",
    "<a id='1'></a>\n",
    "Sometimes we’d like to reuse some portion of a string repeatedly, but\n",
    "still make some relatively small changes at each usage.\n",
    "\n",
    "We can do this with *string formatting*, which done by using `{}` as a\n",
    "*placeholder* where we’d like to change the string, with a variable name\n",
    "or expression.\n",
    "\n",
    "Let’s look at an example."
   ]
  },
  {
   "cell_type": "code",
   "execution_count": 35,
   "metadata": {},
   "outputs": [
    {
     "name": "stdout",
     "output_type": "stream",
     "text": [
      "Vietnam had $223.9 billion GDP in 2017\n"
     ]
    }
   ],
   "source": [
    "country = \"Vietnam\"\n",
    "GDP = 223.9\n",
    "year = 2017\n",
    "my_string = f\"{country} had ${GDP} billion GDP in {year}\"\n",
    "print(my_string)"
   ]
  },
  {
   "cell_type": "markdown",
   "metadata": {},
   "source": [
    "Rather than just substituting a variable name, you can use a calculation\n",
    "or expression."
   ]
  },
  {
   "cell_type": "code",
   "execution_count": 44,
   "metadata": {},
   "outputs": [
    {
     "name": "stdout",
     "output_type": "stream",
     "text": [
      "5**2 = 25\n"
     ]
    }
   ],
   "source": [
    "print(f\"{5}**2 = {5**2}\")"
   ]
  },
  {
   "cell_type": "markdown",
   "metadata": {},
   "source": [
    "Or, using our previous example"
   ]
  },
  {
   "cell_type": "code",
   "execution_count": 45,
   "metadata": {},
   "outputs": [
    {
     "name": "stdout",
     "output_type": "stream",
     "text": [
      "Vietnam had $223900000.0 GDP in 2017\n"
     ]
    }
   ],
   "source": [
    "my_string = f\"{country} had ${GDP * 1_000_000} GDP in {year}\"\n",
    "print(my_string)"
   ]
  },
  {
   "cell_type": "markdown",
   "metadata": {},
   "source": [
    "In these cases, the `f` in front of the string causes Python interpolate\n",
    "any valid expression within the `{}` braces.\n",
    "\n",
    "Alternatively, to reuse a formatted string, you can call the `format` *method* (noting that you do **not** put `f` in front)."
   ]
  },
  {
   "cell_type": "code",
   "execution_count": 46,
   "metadata": {},
   "outputs": [
    {
     "data": {
      "text/plain": [
       "'Vietnam had $223.9 billion in 2017'"
      ]
     },
     "execution_count": 46,
     "metadata": {},
     "output_type": "execute_result"
    }
   ],
   "source": [
    "gdp_string = \"{country} had ${GDP} billion in {year}\"\n",
    "\n",
    "gdp_string.format(country = \"Vietnam\", GDP = 223.9, year = 2017)"
   ]
  },
  {
   "cell_type": "markdown",
   "metadata": {
    "nbgrader": {
     "grade": false,
     "grade_id": "cell-09dbe4ad2af0866f",
     "locked": true,
     "schema_version": 1,
     "solution": false
    }
   },
   "source": [
    "#### Exercise 2\n",
    "\n",
    "Lookup a country in [World Bank database](https://data.worldbank.org/), and format a string showing the growth rate of GDP over the last 2 years.\n",
    "\n",
    "Note, incidently how we created a link in markdown in the previous sentence. Double click on this cell, to see the syntax for a link in markdown."
   ]
  },
  {
   "cell_type": "code",
   "execution_count": 59,
   "metadata": {
    "jupyter": {
     "outputs_hidden": false
    },
    "nbgrader": {
     "grade": false,
     "grade_id": "cell-255bd00e5fa63d25",
     "locked": true,
     "schema_version": 1,
     "solution": false
    }
   },
   "outputs": [],
   "source": [
    "# YOUR CODE HERE\n",
    "#raise NotImplementedError()\n",
    "GDP_2019 = 31.046\n",
    "GDP_2018 = 30.475\n",
    "year = 2019\n",
    "Country = \"Estonia\""
   ]
  },
  {
   "cell_type": "markdown",
   "metadata": {
    "nbgrader": {
     "grade": false,
     "grade_id": "cell-7d92ba02663fa379",
     "locked": true,
     "schema_version": 1,
     "solution": false
    }
   },
   "source": [
    "Now, instead of hard-coding the values above, try using `format` function by defining country, GDP and year as variables."
   ]
  },
  {
   "cell_type": "code",
   "execution_count": 60,
   "metadata": {
    "jupyter": {
     "outputs_hidden": false
    },
    "nbgrader": {
     "grade": false,
     "grade_id": "cell-c8cf031e75070ab2",
     "locked": true,
     "schema_version": 1,
     "solution": false
    }
   },
   "outputs": [
    {
     "name": "stdout",
     "output_type": "stream",
     "text": [
      "The GDP Growth rate of Estonia in 2019 was 1.8392063389808606%\n"
     ]
    }
   ],
   "source": [
    "# YOUR CODE HERE\n",
    "#raise NotImplementedError()\n",
    "true_string = f\"The GDP Growth rate of {Country} in {year} was {(GDP_2019-GDP_2018)/GDP_2019 * 100}%\"\n",
    "print(true_string)"
   ]
  },
  {
   "cell_type": "markdown",
   "metadata": {
    "nbgrader": {
     "grade": false,
     "grade_id": "cell-09dbe4ad2af0866f",
     "locked": true,
     "schema_version": 1,
     "solution": false
    }
   },
   "source": [
    "#### Exercise 3\n",
    "\n",
    "Create a new string and use formatting to produce each of the following statements:\n",
    "- \"The 1st quarter revenue was 110M\"\n",
    "- \"The 2nd quarter revenue was 95M\"\n",
    "- \"The 3rd quarter revenue was 100M\"\n",
    "- \"The 4th quarter revenue was 130M\""
   ]
  },
  {
   "cell_type": "code",
   "execution_count": 85,
   "metadata": {
    "jupyter": {
     "outputs_hidden": false
    }
   },
   "outputs": [
    {
     "name": "stdout",
     "output_type": "stream",
     "text": [
      "The 1st quarter revenue was 110M\n",
      "The 2nd quarter revenue was 95M\n",
      "The 3rd quarter revenue was 100M\n",
      "The 4th quarter revenue was 130M\n"
     ]
    }
   ],
   "source": [
    "# YOUR CODE HERE\n",
    "#raise NotImplementedError()\n",
    "Quarter = [\"1st\", \"2nd\", \"3rd\", \"4th\"]  # () - tuple, [] - list\n",
    "rev = [110, 95,100,130]\n",
    "for i in range(len(rev)):\n",
    "    \n",
    "    ducks =f\"The {Quarter[i]} quarter revenue was {rev[i]}M\"\n",
    "    print(ducks)\n",
    "\n"
   ]
  },
  {
   "cell_type": "markdown",
   "metadata": {},
   "source": [
    "## Numpy\n",
    "\n",
    "Numpy’s core contribution is a data-type called an array. An array is similar to a list, but numpy imposes some additional restrictions on how the data inside is organized.\n",
    "\n",
    "These restrictions allow numpy to\n",
    "\n",
    "1. Be more efficient in performing mathematical and scientific computations.\n",
    "2. Expose functions that allow numpy to do the necessary linear algebra for machine learning and statistics.\n",
    "\n",
    "Before we get started, please note that the convention for importing the numpy package is to use the nickname np:"
   ]
  },
  {
   "cell_type": "code",
   "execution_count": 86,
   "metadata": {},
   "outputs": [],
   "source": [
    "import numpy as np"
   ]
  },
  {
   "cell_type": "markdown",
   "metadata": {},
   "source": [
    "### Array Indexing\n",
    "\n",
    "An array is a multi-dimensional grid of values. Now that there are multiple dimensions, indexing might feel somewhat non-obvious. Do the rows or columns come first? In higher dimensions, what is the order of\n",
    "the index?\n",
    "\n",
    "Notice that the array is built using a list of lists. Indexing into the array will correspond to choosing elements from each list.\n",
    "\n",
    "First, notice that a 3-dimensional array give two stacked matrices:"
   ]
  },
  {
   "cell_type": "code",
   "execution_count": 87,
   "metadata": {
    "hide-output": false
   },
   "outputs": [
    {
     "name": "stdout",
     "output_type": "stream",
     "text": [
      "[[[ 1  2  3]\n",
      "  [ 4  5  6]]\n",
      "\n",
      " [[10 20 30]\n",
      "  [40 50 60]]]\n"
     ]
    }
   ],
   "source": [
    "x_3d_list = [[[1, 2, 3], [4, 5, 6]], [[10, 20, 30], [40, 50, 60]]]\n",
    "x_3d = np.array(x_3d_list)\n",
    "print(x_3d)"
   ]
  },
  {
   "cell_type": "markdown",
   "metadata": {},
   "source": [
    "We can access the matrices with"
   ]
  },
  {
   "cell_type": "code",
   "execution_count": 88,
   "metadata": {
    "hide-output": false
   },
   "outputs": [
    {
     "name": "stdout",
     "output_type": "stream",
     "text": [
      "[[1 2 3]\n",
      " [4 5 6]]\n",
      "[[10 20 30]\n",
      " [40 50 60]]\n"
     ]
    }
   ],
   "source": [
    "print(x_3d[0])\n",
    "print(x_3d[1])"
   ]
  },
  {
   "cell_type": "markdown",
   "metadata": {},
   "source": [
    "In the case of the first, it is synonymous with"
   ]
  },
  {
   "cell_type": "code",
   "execution_count": 92,
   "metadata": {
    "hide-output": false,
    "scrolled": true
   },
   "outputs": [
    {
     "name": "stdout",
     "output_type": "stream",
     "text": [
      "[[1 2 3]\n",
      " [4 5 6]]\n"
     ]
    }
   ],
   "source": [
    "print(x_3d[0, :, :])"
   ]
  },
  {
   "cell_type": "markdown",
   "metadata": {},
   "source": [
    "Let’s work through another example to further clarify this concept with our\n",
    "3-dimensional array.\n",
    "\n",
    "Our goal will be to find the index that retrieves the `4` out of `x_3d`.\n",
    "\n",
    "Recall that when we created `x_3d`, we used the list `[[[1, 2, 3], [4, 5, 6]], [[10, 20, 30], [40, 50, 60]]]`.\n",
    "\n",
    "Notice that the 0 element of that list is `[[1, 2, 3], [4, 5, 6]]`. This is the\n",
    "list that contains the `4` so the first index we would use is a 0."
   ]
  },
  {
   "cell_type": "code",
   "execution_count": 177,
   "metadata": {
    "hide-output": false,
    "scrolled": true
   },
   "outputs": [
    {
     "name": "stdout",
     "output_type": "stream",
     "text": [
      "4\n"
     ]
    }
   ],
   "source": [
    "print(x_3d[0, 1, 0])\n"
   ]
  },
  {
   "cell_type": "markdown",
   "metadata": {},
   "source": [
    "**Exercise 4**\n",
    "\n",
    "What would you do to extract the array `[[5, 6], [50, 60]]` from `x_3d`?"
   ]
  },
  {
   "cell_type": "code",
   "execution_count": 94,
   "metadata": {},
   "outputs": [
    {
     "name": "stdout",
     "output_type": "stream",
     "text": [
      "[[ 5  6]\n",
      " [50 60]]\n"
     ]
    }
   ],
   "source": [
    "# YOUR CODE HERE\n",
    "#raise NotImplementedError()\n",
    "print(x_3d[:,1,1:3])"
   ]
  },
  {
   "cell_type": "markdown",
   "metadata": {},
   "source": [
    "### Array Functionality"
   ]
  },
  {
   "cell_type": "markdown",
   "metadata": {},
   "source": [
    "#### Creating Arrays\n",
    "\n",
    "It’s usually impractical to define arrays by hand as we have done so far.\n",
    "\n",
    "We’ll often need to create an array with default values and then fill it\n",
    "with other values.\n",
    "\n",
    "We can create arrays with the functions `np.zeros` and `np.ones`.\n",
    "\n",
    "Both functions take a tuple that denotes the shape of an array and creates an\n",
    "array filled with 0s or 1s respectively."
   ]
  },
  {
   "cell_type": "code",
   "execution_count": 95,
   "metadata": {
    "hide-output": false
   },
   "outputs": [
    {
     "data": {
      "text/plain": [
       "array([[[0., 0., 0., 0.],\n",
       "        [0., 0., 0., 0.],\n",
       "        [0., 0., 0., 0.]],\n",
       "\n",
       "       [[0., 0., 0., 0.],\n",
       "        [0., 0., 0., 0.],\n",
       "        [0., 0., 0., 0.]]])"
      ]
     },
     "execution_count": 95,
     "metadata": {},
     "output_type": "execute_result"
    }
   ],
   "source": [
    "sizes = (2, 3, 4)\n",
    "x = np.zeros(sizes) # note, a tuple!\n",
    "x"
   ]
  },
  {
   "cell_type": "code",
   "execution_count": 96,
   "metadata": {
    "hide-output": false
   },
   "outputs": [
    {
     "data": {
      "text/plain": [
       "array([1., 1., 1., 1.])"
      ]
     },
     "execution_count": 96,
     "metadata": {},
     "output_type": "execute_result"
    }
   ],
   "source": [
    "y = np.ones((4))\n",
    "y"
   ]
  },
  {
   "cell_type": "markdown",
   "metadata": {},
   "source": [
    "#### Broadcasting Operations\n",
    "\n",
    "Two types of operations that will be useful for arrays of any dimension are:\n",
    "\n",
    "1. Operations between an array and a single number.  \n",
    "1. Operations between two arrays of the same shape.  \n",
    "\n",
    "\n",
    "When we perform operations on an array by using a single number, we simply apply that operation to every element of the array."
   ]
  },
  {
   "cell_type": "code",
   "execution_count": 97,
   "metadata": {},
   "outputs": [
    {
     "name": "stdout",
     "output_type": "stream",
     "text": [
      "x =  [[1. 1.]\n",
      " [1. 1.]]\n",
      "2 + x =  [[3. 3.]\n",
      " [3. 3.]]\n",
      "2 - x =  [[1. 1.]\n",
      " [1. 1.]]\n",
      "2 * x =  [[2. 2.]\n",
      " [2. 2.]]\n",
      "x / 2 =  [[0.5 0.5]\n",
      " [0.5 0.5]]\n"
     ]
    }
   ],
   "source": [
    "# Using np.ones to create an array\n",
    "x = np.ones((2, 2))\n",
    "print(\"x = \", x)\n",
    "print(\"2 + x = \", 2 + x)\n",
    "print(\"2 - x = \", 2 - x)\n",
    "print(\"2 * x = \", 2 * x)\n",
    "print(\"x / 2 = \", x / 2)"
   ]
  },
  {
   "cell_type": "markdown",
   "metadata": {},
   "source": [
    "Operations between two arrays of the same size, in this case `(2, 2)`, simply apply the operation element-wise between the arrays."
   ]
  },
  {
   "cell_type": "code",
   "execution_count": 104,
   "metadata": {},
   "outputs": [
    {
     "name": "stdout",
     "output_type": "stream",
     "text": [
      "x =  [[1. 2.]\n",
      " [3. 4.]]\n",
      "y =  [[1. 1.]\n",
      " [1. 1.]]\n",
      "x + y =  [[2. 3.]\n",
      " [4. 5.]]\n",
      "x - y =  [[0. 1.]\n",
      " [2. 3.]]\n",
      "(elementwise) x * y =  [[1. 2.]\n",
      " [3. 4.]]\n",
      "(elementwise) x / y =  [[1. 2.]\n",
      " [3. 4.]]\n",
      "[5 6 7]\n"
     ]
    }
   ],
   "source": [
    "x = np.array([[1.0, 2.0], [3.0, 4.0]])\n",
    "y = np.ones((2, 2))\n",
    "print(\"x = \", x)\n",
    "print(\"y = \", y)\n",
    "print(\"x + y = \", x + y)\n",
    "print(\"x - y = \", x - y)\n",
    "print(\"(elementwise) x * y = \", x * y)\n",
    "print(\"(elementwise) x / y = \", x / y)\n",
    "result = np.array([1, 2, 3]) + [4]\n",
    "print(result)"
   ]
  },
  {
   "cell_type": "markdown",
   "metadata": {},
   "source": [
    "**Exercise 5**\n",
    "\n",
    "Consider the code `[1, 2, 3] + [4]`. What is the difference between the output of this code and the output of `np.array([1, 2, 3]) + [4]`?"
   ]
  },
  {
   "cell_type": "markdown",
   "metadata": {},
   "source": [
    "First code adds 4 to the list of [1,2,3]. \n",
    "Second code makes a matrix 1x3 with values [1,2,3] and adds 4 to each element - creating a matrix [5,6,7]\n"
   ]
  },
  {
   "cell_type": "markdown",
   "metadata": {},
   "source": [
    "**Exercise 6**\n",
    "\n",
    "Do you recall what multiplication by an integer did for lists?\n",
    "\n",
    "How does broadcasting differ?"
   ]
  },
  {
   "cell_type": "markdown",
   "metadata": {},
   "source": [
    "Python list s can only be multiplied by an integer, in which case the elements of the list are repeated. \n",
    "Broadcasting actually adds the matrix with the number."
   ]
  },
  {
   "cell_type": "markdown",
   "metadata": {},
   "source": [
    "#### Universal Functions\n",
    "\n",
    "We will often need to transform data by applying a function to every element of an array.\n",
    "\n",
    "Numpy has good support for these operations, called *universal functions* or ufuncs for short.\n",
    "\n",
    "The\n",
    "[numpy documentation](https://docs.scipy.org/doc/numpy/reference/ufuncs.html?highlight=ufunc#available-ufuncs)\n",
    "has a list of all available ufuncs.\n",
    "\n",
    ">**Note**\n",
    ">\n",
    ">You should think of operations between a single number and an array, as we\n",
    "just saw, as a ufunc.\n",
    "\n",
    "Below, we will create an array that contains 10 points between 0 and 25."
   ]
  },
  {
   "cell_type": "code",
   "execution_count": 117,
   "metadata": {
    "hide-output": false
   },
   "outputs": [
    {
     "name": "stdout",
     "output_type": "stream",
     "text": [
      "[ 0.5         3.22222222  5.94444444  8.66666667 11.38888889 14.11111111\n",
      " 16.83333333 19.55555556 22.27777778 25.        ]\n"
     ]
    }
   ],
   "source": [
    "# This is similar to range -- but spits out 10 evenly spaced points from 0.5 to 25.\n",
    "x = np.linspace(0.5, 25, 10)\n",
    "print(x)"
   ]
  },
  {
   "cell_type": "markdown",
   "metadata": {},
   "source": [
    "We will experiment with some ufuncs below:"
   ]
  },
  {
   "cell_type": "code",
   "execution_count": 116,
   "metadata": {
    "hide-output": false
   },
   "outputs": [
    {
     "data": {
      "text/plain": [
       "array([ 0.47942554, -0.08054223, -0.33229977,  0.68755122, -0.92364381,\n",
       "        0.99966057, -0.9024271 ,  0.64879484, -0.28272056, -0.13235175])"
      ]
     },
     "execution_count": 116,
     "metadata": {},
     "output_type": "execute_result"
    }
   ],
   "source": [
    "# Applies the sin function to each element of x\n",
    "np.sin(x)"
   ]
  },
  {
   "cell_type": "markdown",
   "metadata": {},
   "source": [
    "You can use the inspector or the docstrings with `np.<TAB>` to see other available functions, such as"
   ]
  },
  {
   "cell_type": "code",
   "execution_count": 122,
   "metadata": {
    "hide-output": false
   },
   "outputs": [
    {
     "data": {
      "text/plain": [
       "array([ 0,  3,  5,  8, 11, 14, 16, 19, 22, 25], dtype=uint8)"
      ]
     },
     "execution_count": 122,
     "metadata": {},
     "output_type": "execute_result"
    }
   ],
   "source": [
    "# Takes natural log of each element of x\n",
    "np.uint8(x)\n"
   ]
  },
  {
   "cell_type": "markdown",
   "metadata": {},
   "source": [
    "A benefit of using the numpy arrays is that numpy has succinct code for combining vectorized operations."
   ]
  },
  {
   "cell_type": "code",
   "execution_count": 123,
   "metadata": {
    "hide-output": false
   },
   "outputs": [
    {
     "data": {
      "text/plain": [
       "array([0.        , 1.38629436, 3.29583687])"
      ]
     },
     "execution_count": 123,
     "metadata": {},
     "output_type": "execute_result"
    }
   ],
   "source": [
    "# Calculate log(z) * z elementwise\n",
    "z = np.array([1,2,3])\n",
    "np.log(z) * z"
   ]
  },
  {
   "cell_type": "markdown",
   "metadata": {},
   "source": [
    "**Exercise 7**\n",
    "\n",
    "Recall from your courses that the equation for pricing a bond with coupon payment $ C $,\n",
    "face value $ M $, yield to maturity $ i $, and periods to maturity\n",
    "$ N $ is\n",
    "\n",
    "$$\n",
    "\\begin{align*}\n",
    "    P &= \\left(\\sum_{n=1}^N \\frac{C}{(i+1)^n}\\right) + \\frac{M}{(1+i)^N} \\\\\n",
    "      &= C \\left(\\frac{1 - (1+i)^{-N}}{i} \\right) + M(1+i)^{-N}\n",
    "\\end{align*}\n",
    "$$\n",
    "\n",
    "In the code cell below, we have defined variables for `i`, `M` and `C`.\n",
    "\n",
    "You have two tasks:\n",
    "\n",
    "1. Define a numpy array `N` that contains all maturities between 1 and 10, including endpoints (*hint:* look at the `np.arange` function).  \n",
    "1. Using the equation above, determine the bond prices of all maturity levels in your array.  "
   ]
  },
  {
   "cell_type": "code",
   "execution_count": 176,
   "metadata": {},
   "outputs": [
    {
     "name": "stdout",
     "output_type": "stream",
     "text": [
      "[ 1  2  3  4  5  6  7  8  9 10]\n"
     ]
    }
   ],
   "source": [
    "i = 0.03\n",
    "M = 100\n",
    "C = 5\n",
    "\n",
    "# Define array here\n",
    "#raise NotImplementedError()\n",
    "N = np.arange(1,11)\n",
    "\n",
    "# price bonds here\n",
    "\n",
    "print(P)"
   ]
  }
 ],
 "metadata": {
  "date": 1595397098.7581346,
  "download_nb": false,
  "filename": "basics.rst",
  "filename_with_path": "python_fundamentals/collections",
  "kernelspec": {
   "display_name": "Python 3 (ipykernel)",
   "language": "python",
   "name": "python3"
  },
  "language_info": {
   "codemirror_mode": {
    "name": "ipython",
    "version": 3
   },
   "file_extension": ".py",
   "mimetype": "text/x-python",
   "name": "python",
   "nbconvert_exporter": "python",
   "pygments_lexer": "ipython3",
   "version": "3.11.5"
  },
  "title": "Basics"
 },
 "nbformat": 4,
 "nbformat_minor": 4
}
