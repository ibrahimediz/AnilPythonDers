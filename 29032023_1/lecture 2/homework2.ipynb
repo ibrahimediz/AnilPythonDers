{
 "cells": [
  {
   "cell_type": "markdown",
   "id": "f66b3841",
   "metadata": {},
   "source": [
    "# Python Homework Week 2"
   ]
  },
  {
   "cell_type": "markdown",
   "id": "b9c4288c",
   "metadata": {},
   "source": [
    "#### Learning goal\n",
    "Practicing the skills acquired in Datacamp: Intermediate Python\n",
    "1. Matplotlib\n",
    "2. Dictionaries and Pandas\n",
    "3. Logic, Control Flow and Filtering\n",
    "4. Loops\n",
    "5. Hacker Statistics\n",
    "\n",
    "Start by running the following cell to importing necessary libraries:"
   ]
  },
  {
   "cell_type": "code",
   "execution_count": null,
   "id": "d86ac8fd",
   "metadata": {},
   "outputs": [],
   "source": [
    "import matplotlib.pyplot as plt\n",
    "import numpy as np\n",
    "import pandas as pd\n",
    "%matplotlib inline"
   ]
  },
  {
   "cell_type": "markdown",
   "id": "a596ba0b",
   "metadata": {},
   "source": [
    "## Dictionaries"
   ]
  },
  {
   "cell_type": "markdown",
   "id": "e5bb8b24",
   "metadata": {},
   "source": [
    "**a) [1 point]**\n",
    "\n",
    "Create a new dictionary which associates stock tickers with their stock price.\n",
    "\n",
    "Here are some tickers and a price.\n",
    "\n",
    "- AAPL: 175.96  \n",
    "- GOOGL: 1047.43  \n",
    "- TVIX: 8.38  "
   ]
  },
  {
   "cell_type": "code",
   "execution_count": 5,
   "id": "8868caeb",
   "metadata": {},
   "outputs": [
    {
     "name": "stdout",
     "output_type": "stream",
     "text": [
      "{'AAPL': 175.96, 'GOOGL': 1047.43, 'TVIX': 8.38}\n"
     ]
    }
   ],
   "source": [
    "# YOUR CODE HERE\n",
    "#raise NotImplementedError()\n",
    "master = {\n",
    "    \"AAPL\" : 175.96,\n",
    "    \"GOOGL\" : 1047.43,\n",
    "    \"TVIX\" : 8.38\n",
    "}\n",
    "print(master)"
   ]
  },
  {
   "cell_type": "markdown",
   "id": "7844f0c7",
   "metadata": {},
   "source": [
    "## Good Code Habits\n",
    "\n",
    "A common saying in the software engineering world is:\n",
    "\n",
    "> Always code as if the guy who ends up maintaining your code will be\n",
    "a violent psychopath who knows where you live. Code for readability.\n",
    "\n",
    "\n",
    "This might be a dramatic take, but the most important feature of your code\n",
    "after correctness is readability.\n",
    "\n",
    "We encourage you to do **everything** in your power to make your code as readable as possible.\n",
    "\n",
    "Here are some suggestions for how to do so:\n",
    "\n",
    "- Comment frequently. Leaving short notes not only will help others who\n",
    "  use your code, but will also help you interpret your code\n",
    "  after some time has passed.  \n",
    "- **Anytime** you use a comma, place a space immediately afterwards.  \n",
    "- Whitespace is your friend. Don’t write line after line of code – use\n",
    "  blank lines to break it up.  \n",
    "- Don’t let your lines run too long. Some people reading your code will\n",
    "  be on a laptop, so you want to ensure that they don’t need to scroll horizontally\n",
    "  and right to read your code. We recommend no more than 80 characters per line.  "
   ]
  },
  {
   "cell_type": "markdown",
   "id": "875a1984",
   "metadata": {},
   "source": [
    "## Pandas and loops"
   ]
  },
  {
   "cell_type": "markdown",
   "id": "ecaef29e",
   "metadata": {},
   "source": [
    "Remember the yearly data on GDP and population of China from last week. These data have been collected in the following dictionary:"
   ]
  },
  {
   "cell_type": "code",
   "execution_count": 3,
   "id": "c2b561d5",
   "metadata": {},
   "outputs": [
    {
     "name": "stdout",
     "output_type": "stream",
     "text": [
      "{'year': [2013, 2014, 2015], 'GDP': [9.607, 10.48, 11.06], 'population': [1.357, 1.364, 1.371]}\n"
     ]
    }
   ],
   "source": [
    "china_dict = {\"year\": [2013, 2014, 2015], \"GDP\": [9.607, 10.48, 11.06], \"population\": [1.357, 1.364, 1.371]}\n",
    "#              key  : value\n",
    "print(china_dict)"
   ]
  },
  {
   "cell_type": "markdown",
   "id": "7aded890",
   "metadata": {},
   "source": [
    "**b) [1 point]**\n",
    "\n",
    "Use a `for` loop to print the relevant parts of the dictionary `china_dict` such that the output looks identical to the output of:"
   ]
  },
  {
   "cell_type": "code",
   "execution_count": 4,
   "id": "11a42b8e",
   "metadata": {},
   "outputs": [
    {
     "name": "stdout",
     "output_type": "stream",
     "text": [
      "[2013, 2014, 2015]\n",
      "[9.607, 10.48, 11.06]\n",
      "[1.357, 1.364, 1.371]\n"
     ]
    }
   ],
   "source": [
    "print([2013, 2014, 2015]) \n",
    "print([9.607, 10.48, 11.06])\n",
    "print([1.357, 1.364, 1.371])"
   ]
  },
  {
   "cell_type": "code",
   "execution_count": 5,
   "id": "8f4f0d77",
   "metadata": {},
   "outputs": [
    {
     "name": "stdout",
     "output_type": "stream",
     "text": [
      "year\n",
      "[2013, 2014, 2015]\n",
      "GDP\n",
      "[9.607, 10.48, 11.06]\n",
      "population\n",
      "[1.357, 1.364, 1.371]\n"
     ]
    }
   ],
   "source": [
    "# YOUR CODE HERE\n",
    "#raise NotImplementedError()\n",
    "for i in china_dict: # key dikkate alınır\n",
    "    print(i)\n",
    "    result = china_dict[i] # i içinde key değeri\n",
    "    print(result)\n",
    "# liste = [1,2,3,4]\n",
    "# for i in liste: \n",
    "#     print(i) # 1 2 3 4"
   ]
  },
  {
   "cell_type": "code",
   "execution_count": 19,
   "id": "28fe27de",
   "metadata": {},
   "outputs": [
    {
     "name": "stdout",
     "output_type": "stream",
     "text": [
      "year\n",
      "[2013, 2014, 2015]\n",
      "GDP\n",
      "[9.607, 10.48, 11.06]\n",
      "population\n",
      "[1.357, 1.364, 1.371]\n"
     ]
    }
   ],
   "source": [
    "#   key,value\n",
    "for index, value in china_dict.items():\n",
    "    print(index)\n",
    "    print(value)"
   ]
  },
  {
   "cell_type": "markdown",
   "id": "f57271c0",
   "metadata": {},
   "source": [
    "**c) [1 point]**\n",
    "\n",
    "Create a pandas dataframe using the dictionary `china_dict` as data, and print it."
   ]
  },
  {
   "cell_type": "code",
   "execution_count": 6,
   "id": "79c3ca30",
   "metadata": {},
   "outputs": [
    {
     "data": {
      "text/html": [
       "<div>\n",
       "<style scoped>\n",
       "    .dataframe tbody tr th:only-of-type {\n",
       "        vertical-align: middle;\n",
       "    }\n",
       "\n",
       "    .dataframe tbody tr th {\n",
       "        vertical-align: top;\n",
       "    }\n",
       "\n",
       "    .dataframe thead th {\n",
       "        text-align: right;\n",
       "    }\n",
       "</style>\n",
       "<table border=\"1\" class=\"dataframe\">\n",
       "  <thead>\n",
       "    <tr style=\"text-align: right;\">\n",
       "      <th></th>\n",
       "      <th>year</th>\n",
       "      <th>GDP</th>\n",
       "      <th>population</th>\n",
       "    </tr>\n",
       "  </thead>\n",
       "  <tbody>\n",
       "    <tr>\n",
       "      <th>0</th>\n",
       "      <td>2013</td>\n",
       "      <td>9.607</td>\n",
       "      <td>1.357</td>\n",
       "    </tr>\n",
       "    <tr>\n",
       "      <th>1</th>\n",
       "      <td>2014</td>\n",
       "      <td>10.480</td>\n",
       "      <td>1.364</td>\n",
       "    </tr>\n",
       "    <tr>\n",
       "      <th>2</th>\n",
       "      <td>2015</td>\n",
       "      <td>11.060</td>\n",
       "      <td>1.371</td>\n",
       "    </tr>\n",
       "  </tbody>\n",
       "</table>\n",
       "</div>"
      ],
      "text/plain": [
       "   year     GDP  population\n",
       "0  2013   9.607       1.357\n",
       "1  2014  10.480       1.364\n",
       "2  2015  11.060       1.371"
      ]
     },
     "execution_count": 6,
     "metadata": {},
     "output_type": "execute_result"
    }
   ],
   "source": [
    "# YOUR CODE HERE\n",
    "#raise NotImplementedError()\n",
    "samuel = pd.DataFrame(china_dict)\n",
    "print(samuel)\n",
    " \n",
    "\n",
    "for index, value in samuel.iterrows():  # .iterrows() takes row by row\n",
    "    print(index)\n",
    "    x = (value[\"year\"])\n",
    "    \n",
    "for i in samuel.items():   # .items() takes the values of the columns \n",
    "    print(i)\n",
    "    \n",
    "\n",
    "    "
   ]
  },
  {
   "cell_type": "markdown",
   "id": "0ad78f26",
   "metadata": {},
   "source": [
    "**d) [1 point]**\n",
    "\n",
    "Use three `for` loops, the method `append()`, the function `int`, and the code below to print output that is identical to the output of  exercise **b)**."
   ]
  },
  {
   "cell_type": "code",
   "execution_count": 9,
   "id": "5358d46c",
   "metadata": {},
   "outputs": [
    {
     "name": "stdout",
     "output_type": "stream",
     "text": [
      "[2013, 2014, 2015]\n",
      "[9.607, 10.48, 11.06]\n",
      "[1.357, 1.364, 1.371]\n"
     ]
    }
   ],
   "source": [
    "\n",
    "                                            # with 3 different for-loops, more lines\n",
    "china_year = []\n",
    "for index, value in samuel.iterrows():\n",
    "    x = int(value[\"year\"])\n",
    "    china_year.append(x)\n",
    "china_gdp = []\n",
    "for i, v in samuel.iterrows():\n",
    "    y = v[\"GDP\"]\n",
    "    china_gdp.append(y)\n",
    "china_pop = []\n",
    "for i,v in samuel.iterrows():\n",
    "    china_pop.append(v[\"population\"])\n",
    "\n",
    "china_year = []\n",
    "china_gdp = []\n",
    "china_pop = []\n",
    "# YOUR CODE HERE\n",
    "#raise NotImplementedError()\n",
    "                                    # 1 for-loop for all 3 \n",
    "for i, v in samuel.iterrows():\n",
    "    x = int(v[\"year\"])\n",
    "    y = v[\"GDP\"]\n",
    "    z = v[\"population\"]\n",
    "    china_year.append(x)\n",
    "    china_gdp.append(y)\n",
    "    china_pop.append(z)\n",
    "\n",
    "print(china_year)\n",
    "print(china_gdp)\n",
    "print(china_pop)\n"
   ]
  },
  {
   "cell_type": "markdown",
   "id": "704c192b",
   "metadata": {},
   "source": [
    "## Plotting in Python\n",
    "\n",
    "The most widely used plotting package in Python is matplotlib. \n",
    "\n",
    "Note at the top of this notebook that we are using `matplotlib.pyplot` rather than just `matplotlib`. `pyplot` is a sub-module found in some large packages to further organize functions and types. We are able to give the `plt` alias to this sub-module.\n",
    "\n",
    "Additionally, when we are working in the notebook, we need tell matplotlib to display our images\n",
    "inside of the notebook itself instead of creating new windows with the image. This is done by `%matplotlib inline`.\n",
    "\n",
    "The commands with `%` before them are called [Magics](https://ipython.readthedocs.io/en/stable/interactive/magics.html)."
   ]
  },
  {
   "cell_type": "markdown",
   "id": "6ee3cb0f",
   "metadata": {},
   "source": [
    "### Plotting simulations"
   ]
  },
  {
   "cell_type": "markdown",
   "id": "ad2b3e05",
   "metadata": {},
   "source": [
    "You have seen in datacamp that you can draw samples from a standard normal distribution with"
   ]
  },
  {
   "cell_type": "code",
   "execution_count": 26,
   "id": "509cae45",
   "metadata": {},
   "outputs": [
    {
     "data": {
      "text/plain": [
       "-0.9730901591149184"
      ]
     },
     "execution_count": 26,
     "metadata": {},
     "output_type": "execute_result"
    }
   ],
   "source": [
    "np.random.normal(0,1)"
   ]
  },
  {
   "cell_type": "markdown",
   "id": "5df10f73",
   "metadata": {},
   "source": [
    "Note that this number is random. Hence, you can expect to see a different number, each time you do this. Try it!\n",
    "\n",
    "Actually, these numbers are not really random, they are *pseudorandom* because they are produced by an algorithm. The algorithm generates numbers that appear unpredictable, but in fact are computed by an algorithm, and are thus deterministic! \n",
    "\n",
    "Pseudorandom number generators such as `np.random` typically maintain *internal state*, which tells them how to generate the next number. Every time you produce a random number, the state changes. \n",
    "\n",
    "The pseudorandom number generator has to start somewhere. So you have an initial state. This is called the *seed*. If I can guess the seed, I can generate the entire series of random numbers.\n",
    "\n",
    "-----------------\n",
    "\n",
    "**e) [1 point]** Draw 1000 samples from a normal distribution with mean 10 and standard deviation 1; call this list `draws`. Just before you sample, set the seed at `123` using `np.random.seed()`"
   ]
  },
  {
   "cell_type": "code",
   "execution_count": 43,
   "id": "138feab8",
   "metadata": {
    "deletable": false,
    "nbgrader": {
     "checksum": "945378d786f882b4d7b45a809e07aa81",
     "grade": true,
     "grade_id": "cell-c66ef66a41f73099",
     "locked": false,
     "points": 1,
     "schema_version": 1,
     "solution": true
    }
   },
   "outputs": [],
   "source": [
    "# YOUR CODE HERE\n",
    "#raise NotImplementedError()\n",
    "np.random.seed(123)\n",
    "draws = np.random.normal(10, 1,1000)\n"
   ]
  },
  {
   "cell_type": "markdown",
   "id": "8aa6cc0f",
   "metadata": {},
   "source": [
    "**f) [1 point]** Use `plt` to plot a histogram of `draws`."
   ]
  },
  {
   "cell_type": "code",
   "execution_count": 44,
   "id": "c8788355",
   "metadata": {
    "deletable": false,
    "nbgrader": {
     "checksum": "ad24243e93434e8eb2722e076920fe95",
     "grade": true,
     "grade_id": "cell-76da25e671917546",
     "locked": false,
     "points": 2,
     "schema_version": 1,
     "solution": true
    }
   },
   "outputs": [
    {
     "data": {
      "text/plain": [
       "(array([  7.,  27.,  95., 183., 286., 202., 142.,  49.,   7.,   2.]),\n",
       " array([ 6.76894499,  7.44920841,  8.12947184,  8.80973526,  9.48999868,\n",
       "        10.17026211, 10.85052553, 11.53078895, 12.21105237, 12.8913158 ,\n",
       "        13.57157922]),\n",
       " <BarContainer object of 10 artists>)"
      ]
     },
     "execution_count": 44,
     "metadata": {},
     "output_type": "execute_result"
    },
    {
     "data": {
      "image/png": "[encoded data removed]",
      "text/plain": [
       "<Figure size 640x480 with 1 Axes>"
      ]
     },
     "metadata": {},
     "output_type": "display_data"
    }
   ],
   "source": [
    "# YOUR CODE HERE\n",
    "#raise NotImplementedError()\n",
    "plt.hist(draws)"
   ]
  },
  {
   "cell_type": "markdown",
   "id": "cdd7ec51",
   "metadata": {},
   "source": [
    "## Hacker statistics"
   ]
  },
  {
   "cell_type": "markdown",
   "id": "1cdc1cd3",
   "metadata": {},
   "source": [
    "**g) [1 point]**\n",
    "\n",
    "Wikipedia and other credible statistics sources tell us that the mean and\n",
    "variance of the Uniform(0, 1) distribution are (1/2, 1/12) respectively.\n",
    "\n",
    "How could we check whether the numpy random numbers approximate these\n",
    "values?"
   ]
  },
  {
   "cell_type": "code",
   "execution_count": 47,
   "id": "c32c09b7",
   "metadata": {},
   "outputs": [
    {
     "name": "stdout",
     "output_type": "stream",
     "text": [
      "0.49998130862416457\n",
      "0.08332802028493695\n",
      "True\n",
      "False\n"
     ]
    }
   ],
   "source": [
    "# YOUR CODE HERE\n",
    "#raise NotImplementedError()\n",
    "kil = np.random.random_sample(10000000)\n",
    "print(np.mean(kil))\n",
    "print(np.var(kil))\n",
    "print(round(np.mean(kil),4) == 0.5)\n",
    "print(round(np.var(kil), 4) == 1/12)"
   ]
  },
  {
   "cell_type": "markdown",
   "id": "05e7f3ab",
   "metadata": {},
   "source": [
    "## Logic and Control Flow"
   ]
  },
  {
   "cell_type": "markdown",
   "id": "3b1a96c2",
   "metadata": {},
   "source": [
    "**h) [1 point]**\n",
    "\n",
    "Run the following two variations on the code that have only a single difference in the indentation.\n",
    "\n",
    "Afterwards, modify the `x` to print `3` and then `2, 3` instead."
   ]
  },
  {
   "cell_type": "code",
   "execution_count": 50,
   "id": "0060d77d",
   "metadata": {},
   "outputs": [
    {
     "name": "stdout",
     "output_type": "stream",
     "text": [
      "3\n"
     ]
    }
   ],
   "source": [
    "x = 0\n",
    "if x > 0:\n",
    "    print(\"1\")\n",
    "    print(\"2\")\n",
    "print(\"3\")"
   ]
  },
  {
   "cell_type": "code",
   "execution_count": 56,
   "id": "69065cfe",
   "metadata": {},
   "outputs": [
    {
     "name": "stdout",
     "output_type": "stream",
     "text": [
      "1\n",
      "Hello\n",
      "2\n",
      "3\n"
     ]
    }
   ],
   "source": [
    "x = 0\n",
    "\n",
    "if x > 0:\n",
    "    print(\"1\")\n",
    "print(\"2\") # changed the indentation\n",
    "print(\"3\")"
   ]
  },
  {
   "cell_type": "markdown",
   "id": "1ac71f77",
   "metadata": {},
   "source": [
    "**i) [1 point]**\n",
    "\n",
    "Adapt the code below so that it prints `\"Good afternoon\"` if the\n",
    "`current_time` is past noon, and to do nothing otherwise.\n",
    "\n",
    "(Hint: Write some conditional based on `current_time.hour`.)"
   ]
  },
  {
   "cell_type": "code",
   "execution_count": 57,
   "id": "359bb5da",
   "metadata": {
    "hide-output": false
   },
   "outputs": [
    {
     "name": "stdout",
     "output_type": "stream",
     "text": [
      "Good afternoon\n",
      "Astalavista Baby\n"
     ]
    }
   ],
   "source": [
    "import datetime\n",
    "current_time = datetime.datetime.now()\n",
    "\n",
    "# YOUR CODE HERE\n",
    "#raise NotImplementedError()\n",
    "if current_time.hour >= 12:\n",
    "    print(\"Good afternoon\")\n",
    "else:\n",
    "    print(\"Breakfast?\")\n",
    "\n",
    "# if current_time.year >= 2023:\n",
    "#     print(\"Astalavista Baby\")\n",
    "# else:\n",
    "#     print(\"KK aday olmasın\")"
   ]
  },
  {
   "cell_type": "markdown",
   "id": "97632206",
   "metadata": {},
   "source": [
    "**j) [1 point]**\n",
    "\n",
    "Generate a random number between 0 and 1\n",
    "and then display \"x > 0.5\" or \"x < 0.5\" depending on the value of the\n",
    "number."
   ]
  },
  {
   "cell_type": "code",
   "execution_count": 70,
   "id": "9cc225f5",
   "metadata": {},
   "outputs": [
    {
     "name": "stdout",
     "output_type": "stream",
     "text": [
      "x = 0.5679115088464394\n",
      "0.5679115088464394 > 0.5\n"
     ]
    }
   ],
   "source": [
    "x = np.random.random_sample()\n",
    "print(f\"x = {x}\")\n",
    "\n",
    "\n",
    "# YOUR CODE HERE\n",
    "#raise NotImplementedError()\n",
    "if x > 0.5:\n",
    "    print(f\"{x} > 0.5\")\n",
    "else:\n",
    "    print(f\"{x} < 0.5\")"
   ]
  },
  {
   "cell_type": "code",
   "execution_count": null,
   "id": "6d23a651",
   "metadata": {},
   "outputs": [],
   "source": []
  },
  {
   "cell_type": "code",
   "execution_count": null,
   "id": "27a26f7c",
   "metadata": {},
   "outputs": [],
   "source": []
  }
 ],
 "metadata": {
  "kernelspec": {
   "display_name": "Python 3 (ipykernel)",
   "language": "python",
   "name": "python3"
  },
  "language_info": {
   "codemirror_mode": {
    "name": "ipython",
    "version": 3
   },
   "file_extension": ".py",
   "mimetype": "text/x-python",
   "name": "python",
   "nbconvert_exporter": "python",
   "pygments_lexer": "ipython3",
   "version": "3.8.16"
  }
 },
 "nbformat": 4,
 "nbformat_minor": 5
}
