{
 "cells": [
  {
   "cell_type": "markdown",
   "metadata": {},
   "source": [
    "* python3 -m venv env\n",
    "* source env/bin/activate\n",
    "* pip install numpy pandas matplotlib seaborn scikit-learn\n",
    "\n",
    "Kurulum için çalıştırılması gereken komutlar"
   ]
  },
  {
   "cell_type": "code",
   "execution_count": 2,
   "metadata": {},
   "outputs": [
    {
     "name": "stdout",
     "output_type": "stream",
     "text": [
      "(1,)\n",
      "<class 'tuple'>\n",
      "4565235744\n"
     ]
    }
   ],
   "source": [
    "t = (1,) # tuple\n",
    "print(t)\n",
    "print(type(t))\n",
    "print(id(t))"
   ]
  },
  {
   "cell_type": "code",
   "execution_count": 3,
   "metadata": {},
   "outputs": [
    {
     "name": "stdout",
     "output_type": "stream",
     "text": [
      "[1, 2]\n",
      "<class 'list'>\n",
      "4570515200\n"
     ]
    }
   ],
   "source": [
    "x = [1,2] # list\n",
    "print(x)\n",
    "print(type(x))\n",
    "print(id(x))"
   ]
  },
  {
   "cell_type": "markdown",
   "metadata": {},
   "source": [
    "#### Exercise 1\n",
    "\n",
    "Verify that tuples are indeed immutable and lists are not, by attempting the following:\n",
    "\n",
    "- Changing the GDP in 2022 to 900\n",
    "- Appending observations for 2018: a GDP of 779 and a population of 80\n",
    "- Sorting the data ascending in years"
   ]
  },
  {
   "cell_type": "code",
   "execution_count": 4,
   "metadata": {},
   "outputs": [],
   "source": [
    "# type(turks_data[1]) => tuple "
   ]
  },
  {
   "cell_type": "code",
   "execution_count": 5,
   "metadata": {},
   "outputs": [
    {
     "name": "stdout",
     "output_type": "stream",
     "text": [
      "[(2015, 11.06, 1.371), (2022, 900, 1.364)]\n",
      "[(2015, 11.06, 1.371), (2022, 900, 1.364), (2018, 779, 80)]\n",
      "[(2015, 11.06, 1.371), (2018, 779, 80), (2022, 900, 1.364)]\n"
     ]
    }
   ],
   "source": [
    "turks_data = [(2015, 11.06, 1.371), (2022, 1000, 1.364)]\n",
    "###                 0                      1\n",
    "###            0      1       2       0      1     2\n",
    "turks_data[1]  = (2022, 900, 1.364)\n",
    "print(turks_data)\n",
    "x = (2018, 779, 80)\n",
    "turks_data.append(x) \n",
    "print(turks_data)\n",
    "sorted_turks = sorted(turks_data)\n",
    "print(sorted_turks)"
   ]
  },
  {
   "cell_type": "markdown",
   "metadata": {},
   "source": [
    "# String Formatting"
   ]
  },
  {
   "cell_type": "code",
   "execution_count": 6,
   "metadata": {},
   "outputs": [],
   "source": [
    "ulke = \"Turkey\" # String => Karakter Dizisi\n",
    "# DRY  Dont Repeat Yourself\n",
    "# WET  Write Everything Twice\n",
    "\n",
    "ulke = \"USA\"\n",
    "#       012\n",
    "# \"U\" => karakter"
   ]
  },
  {
   "cell_type": "markdown",
   "metadata": {},
   "source": [
    "```indisleme```"
   ]
  },
  {
   "cell_type": "markdown",
   "metadata": {},
   "source": [
    "---------------------------------"
   ]
  },
  {
   "cell_type": "code",
   "execution_count": 7,
   "metadata": {},
   "outputs": [
    {
     "data": {
      "text/plain": [
       "2"
      ]
     },
     "execution_count": 7,
     "metadata": {},
     "output_type": "execute_result"
    }
   ],
   "source": [
    "liste = [[1,2,3],[4,5,6],[7,8,9]]\n",
    "#           0       1       2\n",
    "#         0 1 2   0 1 2   0 1 2\n",
    "#          -3       -2       -1 \n",
    "#        -3 -2 -1 \n",
    "liste[0][1]"
   ]
  },
  {
   "cell_type": "code",
   "execution_count": 8,
   "metadata": {},
   "outputs": [
    {
     "data": {
      "text/plain": [
       "9"
      ]
     },
     "execution_count": 8,
     "metadata": {},
     "output_type": "execute_result"
    }
   ],
   "source": [
    "liste[-1] # [7,8,9]\n",
    "liste[-1][-1] # 9"
   ]
  },
  {
   "cell_type": "markdown",
   "metadata": {},
   "source": [
    "-----------------------------"
   ]
  },
  {
   "cell_type": "code",
   "execution_count": 9,
   "metadata": {},
   "outputs": [],
   "source": [
    "sonuc = \"Sayın ...... Hoş Geldiniz\"\n",
    "pi = 22/7"
   ]
  },
  {
   "cell_type": "code",
   "execution_count": 10,
   "metadata": {},
   "outputs": [
    {
     "name": "stdout",
     "output_type": "stream",
     "text": [
      "Sayın Anıl KAYA Hoş Geldiniz 3.14\n"
     ]
    }
   ],
   "source": [
    "isim = \"Anıl\"\n",
    "soyisim = \"KAYA\"\n",
    "sonuc = f\"Sayın {isim} {soyisim} Hoş Geldiniz {round(pi,2)}\"\n",
    "print(sonuc)"
   ]
  },
  {
   "cell_type": "code",
   "execution_count": 11,
   "metadata": {},
   "outputs": [
    {
     "name": "stdout",
     "output_type": "stream",
     "text": [
      "Sayın Anıl KAYA 3.14 Hoş Geldiniz\n"
     ]
    }
   ],
   "source": [
    "sonuc = \"Sayın {} {} {} Hoş Geldiniz\".format(isim,soyisim,round(22/7,2))\n",
    "print(sonuc)"
   ]
  },
  {
   "cell_type": "code",
   "execution_count": 12,
   "metadata": {},
   "outputs": [
    {
     "name": "stdout",
     "output_type": "stream",
     "text": [
      "Sayın Anıl  KAYA 3.14 Hoş Geldiniz\n"
     ]
    }
   ],
   "source": [
    "sonuc = \"Sayın %s  %s %2.2f Hoş Geldiniz\" % (isim,soyisim,pi)\n",
    "print(sonuc)"
   ]
  },
  {
   "cell_type": "code",
   "execution_count": 13,
   "metadata": {},
   "outputs": [],
   "source": [
    "# %pip install numpy"
   ]
  },
  {
   "cell_type": "code",
   "execution_count": 14,
   "metadata": {},
   "outputs": [
    {
     "name": "stdout",
     "output_type": "stream",
     "text": [
      "0 indis numarasında  1 - X malının fiyatı TR ülkesinde 1000000\n",
      "1 indis numarasında  2 - X malının fiyatı EU ülkesinde 50000\n",
      "2 indis numarasında  3 - X malının fiyatı USA ülkesinde 10000\n"
     ]
    }
   ],
   "source": [
    "a = [1,2,3] # python list \n",
    "b = [\"TR\",\"EU\",\"USA\"]\n",
    "c = [\"1000000\",\"50000\",\"10000\"]\n",
    "\n",
    "for i in range(len(a)):\n",
    "    metin = f\"{i} indis numarasında  {a[i]} - X malının fiyatı {b[i]} ülkesinde {c[i]}\" # str\n",
    "    print(metin)"
   ]
  },
  {
   "cell_type": "code",
   "execution_count": 15,
   "metadata": {},
   "outputs": [
    {
     "name": "stdout",
     "output_type": "stream",
     "text": [
      "1 - X malının fiyatı TR ülkesinde 1000000\n",
      "2 - X malının fiyatı EU ülkesinde 50000\n",
      "3 - X malının fiyatı USA ülkesinde 10000\n"
     ]
    }
   ],
   "source": [
    "for x,y,z in zip(a,b,c):\n",
    "    metin = f\"{x} - X malının fiyatı {y} ülkesinde {z}\"\n",
    "    print(metin)"
   ]
  },
  {
   "cell_type": "code",
   "execution_count": 16,
   "metadata": {},
   "outputs": [
    {
     "name": "stdout",
     "output_type": "stream",
     "text": [
      "(1, 'TR', '1000000') (2, 'EU', '50000') (3, 'USA', '10000')\n"
     ]
    }
   ],
   "source": [
    "print(*zip(a,b,c))"
   ]
  },
  {
   "cell_type": "markdown",
   "metadata": {},
   "source": [
    "# Numpy"
   ]
  },
  {
   "cell_type": "code",
   "execution_count": 17,
   "metadata": {},
   "outputs": [],
   "source": [
    "import numpy as np"
   ]
  },
  {
   "cell_type": "code",
   "execution_count": 18,
   "metadata": {},
   "outputs": [
    {
     "name": "stdout",
     "output_type": "stream",
     "text": [
      "[[[ 1  2  3]\n",
      "  [ 4  5  6]]\n",
      "\n",
      " [[10 20 30]\n",
      "  [40 50 60]]]\n"
     ]
    }
   ],
   "source": [
    "x_3d_list = [\n",
    "    [\n",
    "        [1, 2, 3],\n",
    "        [4, 5, 6]\n",
    "        # 0 1  2 \n",
    "        ], \n",
    "    [\n",
    "        [10, 20, 30], \n",
    "        [40, 50, 60]\n",
    "        ]\n",
    "    ]\n",
    "x_3d = np.array(x_3d_list)\n",
    "print(x_3d)"
   ]
  },
  {
   "cell_type": "code",
   "execution_count": 19,
   "metadata": {},
   "outputs": [
    {
     "name": "stdout",
     "output_type": "stream",
     "text": [
      "[[1 2 3]\n",
      " [4 5 6]]\n",
      "[[10 20 30]\n",
      " [40 50 60]]\n"
     ]
    }
   ],
   "source": [
    "print(x_3d[0])\n",
    "print(x_3d[1])"
   ]
  },
  {
   "cell_type": "code",
   "execution_count": 20,
   "metadata": {},
   "outputs": [
    {
     "name": "stdout",
     "output_type": "stream",
     "text": [
      "5\n"
     ]
    }
   ],
   "source": [
    "print(x_3d[0, 1, 1])"
   ]
  },
  {
   "cell_type": "code",
   "execution_count": 21,
   "metadata": {},
   "outputs": [
    {
     "name": "stdout",
     "output_type": "stream",
     "text": [
      "[[1 2 3]\n",
      " [4 5 6]]\n"
     ]
    }
   ],
   "source": [
    "print(x_3d[0, :, :])"
   ]
  },
  {
   "cell_type": "code",
   "execution_count": 28,
   "metadata": {},
   "outputs": [
    {
     "data": {
      "text/plain": [
       "[2, 3]"
      ]
     },
     "execution_count": 28,
     "metadata": {},
     "output_type": "execute_result"
    }
   ],
   "source": [
    "liste = [1,2,3,4,5,6,7,8,9,10]\n",
    "#         0 1 2 3 4 5 6 7 8 9\n",
    "#       -10-9-8-7-6-5-4-3-2-1 \n",
    "liste[1:3]\n",
    "#        1 2\n",
    "liste[-9:-7]\n"
   ]
  },
  {
   "cell_type": "code",
   "execution_count": 29,
   "metadata": {},
   "outputs": [
    {
     "data": {
      "text/plain": [
       "[2, 4]"
      ]
     },
     "execution_count": 29,
     "metadata": {},
     "output_type": "execute_result"
    }
   ],
   "source": [
    "liste[1:5:2] # 1,3"
   ]
  },
  {
   "cell_type": "code",
   "execution_count": 30,
   "metadata": {},
   "outputs": [
    {
     "data": {
      "text/plain": [
       "[1, 2, 3, 4]"
      ]
     },
     "execution_count": 30,
     "metadata": {},
     "output_type": "execute_result"
    }
   ],
   "source": [
    "liste[0:4]"
   ]
  },
  {
   "cell_type": "code",
   "execution_count": 36,
   "metadata": {},
   "outputs": [
    {
     "data": {
      "text/plain": [
       "[1, 3, 5, 7, 9]"
      ]
     },
     "execution_count": 36,
     "metadata": {},
     "output_type": "execute_result"
    }
   ],
   "source": [
    "liste[::2]"
   ]
  },
  {
   "cell_type": "code",
   "execution_count": 37,
   "metadata": {},
   "outputs": [
    {
     "data": {
      "text/plain": [
       "[10, 9, 8, 7, 6, 5, 4, 3, 2, 1]"
      ]
     },
     "execution_count": 37,
     "metadata": {},
     "output_type": "execute_result"
    }
   ],
   "source": [
    "liste[::-1]"
   ]
  },
  {
   "cell_type": "code",
   "execution_count": 39,
   "metadata": {},
   "outputs": [
    {
     "name": "stdout",
     "output_type": "stream",
     "text": [
      "[1 2 3]\n"
     ]
    }
   ],
   "source": [
    "x_3d_list = [\n",
    "    [\n",
    "        [1, 2, 3], # 0\n",
    "        [4, 5, 6] # 1\n",
    "        # 0 1  2 \n",
    "        ], \n",
    "    [\n",
    "        [10, 20, 30], # 0  \n",
    "        [40, 50, 60]  # 1\n",
    "        ]\n",
    "    ]\n",
    "x_3d = np.array(x_3d_list)\n",
    "print(x_3d[0, :, :])"
   ]
  },
  {
   "cell_type": "markdown",
   "metadata": {},
   "source": [
    "\n",
    "What would you do to extract the array `[[4, 5], [40, 50]]` from `x_3d`?"
   ]
  },
  {
   "cell_type": "code",
   "execution_count": 60,
   "metadata": {},
   "outputs": [
    {
     "name": "stdout",
     "output_type": "stream",
     "text": [
      "[[ 4  5]\n",
      " [40 50]]\n"
     ]
    }
   ],
   "source": [
    "print(x_3d[:,1,:2])"
   ]
  },
  {
   "cell_type": "code",
   "execution_count": 59,
   "metadata": {},
   "outputs": [
    {
     "data": {
      "text/plain": [
       "['a', 'b', 'c', 'd', 'e', 'f', 'g']"
      ]
     },
     "execution_count": 59,
     "metadata": {},
     "output_type": "execute_result"
    }
   ],
   "source": [
    "liste = [\"a\",\"b\",\"c\",\"d\",\"e\",\"f\",\"g\"]\n",
    "#         0   1   2   3   4   5   6\n",
    "#         -7  -6  -5  -4  -3  -2  -1\n",
    "# liste[3:6]   # 3 4 5\n",
    "# liste[4:6]   # 4 5 \n",
    "\n",
    "# liste[4:-1] # 4 5\n",
    "# liste[-6:-3] # 1 2 3   => 1:4 <==>  -6:-3\n",
    "liste[:4] # 0 1 2 3\n",
    "liste[4:] # 4 5 6\n",
    "liste[:] # 0 1 2 3 4 5 6"
   ]
  },
  {
   "cell_type": "code",
   "execution_count": null,
   "metadata": {},
   "outputs": [],
   "source": [
    "x_3d_list = [   \n",
    "    [  # 0\n",
    "        [1, 2, 3], # 0\n",
    "        [4, 5, 6] # 1\n",
    "        # 0 1  2 \n",
    "        ], \n",
    "    [  # 1\n",
    "        [10, 20, 30], # 0  \n",
    "        [40, 50, 60]  # 1\n",
    "        ]\n",
    "]\n",
    "x_3d_list[1][0][1]"
   ]
  },
  {
   "cell_type": "code",
   "execution_count": null,
   "metadata": {},
   "outputs": [],
   "source": [
    "x_3d_list = [   \n",
    "    [  # 0\n",
    "        [1, 2, 3], # 0\n",
    "        [4, 5, 6] # 1\n",
    "        # 0 1  2 \n",
    "        ], \n",
    "    [  # 1\n",
    "        [10, 20, 30], # 0  \n",
    "        [40, 50, 60]  # 1\n",
    "        ]\n",
    "]\n",
    "x_3d = np.array(x_3d_list)\n",
    "print(x_3d[0, :, :]) # 2x2x3"
   ]
  },
  {
   "cell_type": "code",
   "execution_count": 65,
   "metadata": {},
   "outputs": [
    {
     "data": {
      "text/plain": [
       "(3, (2, 2, 3), 12)"
      ]
     },
     "execution_count": 65,
     "metadata": {},
     "output_type": "execute_result"
    }
   ],
   "source": [
    "x_3d.ndim,x_3d.shape,x_3d.size"
   ]
  },
  {
   "cell_type": "code",
   "execution_count": 68,
   "metadata": {},
   "outputs": [
    {
     "data": {
      "text/plain": [
       "array([[[0., 0., 0., 0.],\n",
       "        [0., 0., 0., 0.],\n",
       "        [0., 0., 0., 0.]],\n",
       "\n",
       "       [[0., 0., 0., 0.],\n",
       "        [0., 0., 0., 0.],\n",
       "        [0., 0., 0., 0.]]])"
      ]
     },
     "execution_count": 68,
     "metadata": {},
     "output_type": "execute_result"
    }
   ],
   "source": [
    "sizes = (2, 3, 4) \n",
    "x = np.zeros(sizes) # note, a tuple!\n",
    "x"
   ]
  },
  {
   "cell_type": "code",
   "execution_count": 66,
   "metadata": {},
   "outputs": [
    {
     "data": {
      "text/plain": [
       "(3, (2, 3, 4), 24)"
      ]
     },
     "execution_count": 66,
     "metadata": {},
     "output_type": "execute_result"
    }
   ],
   "source": [
    "x.ndim,x.shape,x.size"
   ]
  },
  {
   "cell_type": "code",
   "execution_count": 82,
   "metadata": {},
   "outputs": [
    {
     "data": {
      "text/plain": [
       "array([[0.00444444, 0.00444444, 0.00444444, 0.00444444, 0.00444444],\n",
       "       [0.00444444, 0.00444444, 0.00444444, 0.00444444, 0.00444444],\n",
       "       [0.00444444, 0.00444444, 0.00444444, 0.00444444, 0.00444444],\n",
       "       [0.00444444, 0.00444444, 0.00444444, 0.00444444, 0.00444444],\n",
       "       [0.00444444, 0.00444444, 0.00444444, 0.00444444, 0.00444444]])"
      ]
     },
     "execution_count": 82,
     "metadata": {},
     "output_type": "execute_result"
    }
   ],
   "source": [
    "y = np.ones((2,4))\n",
    "y"
   ]
  },
  {
   "cell_type": "code",
   "execution_count": 74,
   "metadata": {},
   "outputs": [
    {
     "data": {
      "text/plain": [
       "array([[1., 0., 0., 0., 0.],\n",
       "       [0., 1., 0., 0., 0.],\n",
       "       [0., 0., 1., 0., 0.],\n",
       "       [0., 0., 0., 1., 0.],\n",
       "       [0., 0., 0., 0., 1.]])"
      ]
     },
     "execution_count": 74,
     "metadata": {},
     "output_type": "execute_result"
    }
   ],
   "source": [
    "np.eye(5)"
   ]
  },
  {
   "cell_type": "code",
   "execution_count": 79,
   "metadata": {},
   "outputs": [
    {
     "data": {
      "text/plain": [
       "array([[1., 0.],\n",
       "       [0., 1.]])"
      ]
     },
     "execution_count": 79,
     "metadata": {},
     "output_type": "execute_result"
    }
   ],
   "source": [
    "np.identity(2)"
   ]
  },
  {
   "cell_type": "code",
   "execution_count": null,
   "metadata": {},
   "outputs": [],
   "source": []
  }
 ],
 "metadata": {
  "kernelspec": {
   "display_name": "env",
   "language": "python",
   "name": "python3"
  },
  "language_info": {
   "codemirror_mode": {
    "name": "ipython",
    "version": 3
   },
   "file_extension": ".py",
   "mimetype": "text/x-python",
   "name": "python",
   "nbconvert_exporter": "python",
   "pygments_lexer": "ipython3",
   "version": "3.11.5"
  }
 },
 "nbformat": 4,
 "nbformat_minor": 2
}
